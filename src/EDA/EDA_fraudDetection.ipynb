{
 "cells": [
  {
   "cell_type": "code",
   "execution_count": 1,
   "id": "initial_id",
   "metadata": {
    "collapsed": true,
    "ExecuteTime": {
     "end_time": "2024-06-13T11:42:11.471358700Z",
     "start_time": "2024-06-13T11:42:11.465466200Z"
    }
   },
   "outputs": [],
   "source": [
    "#import required files\n",
    "import pandas as pd\n",
    "import numpy as np"
   ]
  },
  {
   "cell_type": "code",
   "outputs": [],
   "source": [
    "data = pd.read_csv(r'C:\\Users\\Ankit Ghai\\Documents\\PycharmProjects\\pythonProject\\InsuranceFraudDetection\\InsuranceFraudDetection\\src\\data\\insuranceFraud.csv')"
   ],
   "metadata": {
    "collapsed": false,
    "ExecuteTime": {
     "end_time": "2024-06-13T12:54:56.539702600Z",
     "start_time": "2024-06-13T12:54:56.478191800Z"
    }
   },
   "id": "408f14e31f03a52e",
   "execution_count": 3
  },
  {
   "cell_type": "code",
   "outputs": [
    {
     "data": {
      "text/plain": "Index(['months_as_customer', 'age', 'policy_number', 'policy_bind_date',\n       'policy_state', 'policy_csl', 'policy_deductable',\n       'policy_annual_premium', 'umbrella_limit', 'insured_zip', 'insured_sex',\n       'insured_education_level', 'insured_occupation', 'insured_hobbies',\n       'insured_relationship', 'capital-gains', 'capital-loss',\n       'incident_date', 'incident_type', 'collision_type', 'incident_severity',\n       'authorities_contacted', 'incident_state', 'incident_city',\n       'incident_location', 'incident_hour_of_the_day',\n       'number_of_vehicles_involved', 'property_damage', 'bodily_injuries',\n       'witnesses', 'police_report_available', 'total_claim_amount',\n       'injury_claim', 'property_claim', 'vehicle_claim', 'auto_make',\n       'auto_model', 'auto_year', 'fraud_reported'],\n      dtype='object')"
     },
     "execution_count": 7,
     "metadata": {},
     "output_type": "execute_result"
    }
   ],
   "source": [
    "data=data"
   ],
   "metadata": {
    "collapsed": false,
    "ExecuteTime": {
     "end_time": "2024-06-13T15:27:42.391922Z",
     "start_time": "2024-06-13T15:27:42.363037800Z"
    }
   },
   "id": "41c8b7e69264a27a",
   "execution_count": 7
  },
  {
   "cell_type": "markdown",
   "source": [
    "### Look at the first 5 records"
   ],
   "metadata": {
    "collapsed": false
   },
   "id": "bce897f82cf33a7d"
  },
  {
   "cell_type": "code",
   "outputs": [
    {
     "data": {
      "text/plain": "39"
     },
     "execution_count": 7,
     "metadata": {},
     "output_type": "execute_result"
    }
   ],
   "source": [
    "len(data.isna().sum())"
   ],
   "metadata": {
    "collapsed": false,
    "ExecuteTime": {
     "end_time": "2024-05-27T14:49:03.887048700Z",
     "start_time": "2024-05-27T14:49:03.826571300Z"
    }
   },
   "id": "3805c91f740b9462",
   "execution_count": 7
  },
  {
   "cell_type": "markdown",
   "source": [],
   "metadata": {
    "collapsed": false
   },
   "id": "2607c7dd17999002"
  },
  {
   "cell_type": "code",
   "outputs": [
    {
     "data": {
      "text/plain": "    months_as_customer  age  policy_number policy_bind_date policy_state  \\\n0                  328   48         521585       10/17/2014           OH   \n1                  228   42         342868        6/27/2006           IN   \n2                  134   29         687698         9/6/2000           OH   \n3                  256   41         227811        5/25/1990           IL   \n4                  228   44         367455         6/6/2014           IL   \n..                 ...  ...            ...              ...          ...   \n95                  80   25         992145         3/1/2012           IL   \n96                 325   47         900628         2/5/2006           IN   \n97                  29   25         235220        11/1/2014           IL   \n98                 295   48         740019        6/17/2009           OH   \n99                 239   42         246882        9/20/1999           IL   \n\n   policy_csl  policy_deductable  policy_annual_premium  umbrella_limit  \\\n0     250/500               1000                1406.91               0   \n1     250/500               2000                1197.22         5000000   \n2     100/300               2000                1413.14         5000000   \n3     250/500               2000                1415.74         6000000   \n4    500/1000               1000                1583.91         6000000   \n..        ...                ...                    ...             ...   \n95    100/300               2000                1075.18         5000000   \n96   500/1000               1000                1690.27               0   \n97    250/500               2000                1352.83               0   \n98    250/500               1000                1148.73               0   \n99    100/300               1000                 969.50               0   \n\n    insured_zip  ... witnesses police_report_available total_claim_amount  \\\n0        466132  ...         2                     YES              71610   \n1        468176  ...         0                       ?               5070   \n2        430632  ...         3                      NO              34650   \n3        608117  ...         2                      NO              63400   \n4        610706  ...         1                      NO               6500   \n..          ...  ...       ...                     ...                ...   \n95       601112  ...         0                     YES               6930   \n96       438830  ...         3                      NO              72930   \n97       464959  ...         2                     YES              64890   \n98       439787  ...         2                     YES               5400   \n99       464839  ...         0                       ?               5600   \n\n   injury_claim property_claim  vehicle_claim  auto_make  auto_model  \\\n0          6510          13020          52080       Saab         92x   \n1           780            780           3510   Mercedes        E400   \n2          7700           3850          23100      Dodge         RAM   \n3          6340           6340          50720  Chevrolet       Tahoe   \n4          1300            650           4550     Accura         RSX   \n..          ...            ...            ...        ...         ...   \n95         1260            630           5040     Toyota  Highlander   \n96         6630           6630          59670      Dodge         RAM   \n97         7210           7210          50470     Nissan  Pathfinder   \n98          900            900           3600       Saab          95   \n99          700            700           4200       Audi          A3   \n\n   auto_year fraud_reported  \n0       2004              Y  \n1       2007              Y  \n2       2007              N  \n3       2014              Y  \n4       2009              N  \n..       ...            ...  \n95      2001              N  \n96      2006              Y  \n97      2013              Y  \n98      1999              N  \n99      2007              N  \n\n[100 rows x 39 columns]",
      "text/html": "<div>\n<style scoped>\n    .dataframe tbody tr th:only-of-type {\n        vertical-align: middle;\n    }\n\n    .dataframe tbody tr th {\n        vertical-align: top;\n    }\n\n    .dataframe thead th {\n        text-align: right;\n    }\n</style>\n<table border=\"1\" class=\"dataframe\">\n  <thead>\n    <tr style=\"text-align: right;\">\n      <th></th>\n      <th>months_as_customer</th>\n      <th>age</th>\n      <th>policy_number</th>\n      <th>policy_bind_date</th>\n      <th>policy_state</th>\n      <th>policy_csl</th>\n      <th>policy_deductable</th>\n      <th>policy_annual_premium</th>\n      <th>umbrella_limit</th>\n      <th>insured_zip</th>\n      <th>...</th>\n      <th>witnesses</th>\n      <th>police_report_available</th>\n      <th>total_claim_amount</th>\n      <th>injury_claim</th>\n      <th>property_claim</th>\n      <th>vehicle_claim</th>\n      <th>auto_make</th>\n      <th>auto_model</th>\n      <th>auto_year</th>\n      <th>fraud_reported</th>\n    </tr>\n  </thead>\n  <tbody>\n    <tr>\n      <th>0</th>\n      <td>328</td>\n      <td>48</td>\n      <td>521585</td>\n      <td>10/17/2014</td>\n      <td>OH</td>\n      <td>250/500</td>\n      <td>1000</td>\n      <td>1406.91</td>\n      <td>0</td>\n      <td>466132</td>\n      <td>...</td>\n      <td>2</td>\n      <td>YES</td>\n      <td>71610</td>\n      <td>6510</td>\n      <td>13020</td>\n      <td>52080</td>\n      <td>Saab</td>\n      <td>92x</td>\n      <td>2004</td>\n      <td>Y</td>\n    </tr>\n    <tr>\n      <th>1</th>\n      <td>228</td>\n      <td>42</td>\n      <td>342868</td>\n      <td>6/27/2006</td>\n      <td>IN</td>\n      <td>250/500</td>\n      <td>2000</td>\n      <td>1197.22</td>\n      <td>5000000</td>\n      <td>468176</td>\n      <td>...</td>\n      <td>0</td>\n      <td>?</td>\n      <td>5070</td>\n      <td>780</td>\n      <td>780</td>\n      <td>3510</td>\n      <td>Mercedes</td>\n      <td>E400</td>\n      <td>2007</td>\n      <td>Y</td>\n    </tr>\n    <tr>\n      <th>2</th>\n      <td>134</td>\n      <td>29</td>\n      <td>687698</td>\n      <td>9/6/2000</td>\n      <td>OH</td>\n      <td>100/300</td>\n      <td>2000</td>\n      <td>1413.14</td>\n      <td>5000000</td>\n      <td>430632</td>\n      <td>...</td>\n      <td>3</td>\n      <td>NO</td>\n      <td>34650</td>\n      <td>7700</td>\n      <td>3850</td>\n      <td>23100</td>\n      <td>Dodge</td>\n      <td>RAM</td>\n      <td>2007</td>\n      <td>N</td>\n    </tr>\n    <tr>\n      <th>3</th>\n      <td>256</td>\n      <td>41</td>\n      <td>227811</td>\n      <td>5/25/1990</td>\n      <td>IL</td>\n      <td>250/500</td>\n      <td>2000</td>\n      <td>1415.74</td>\n      <td>6000000</td>\n      <td>608117</td>\n      <td>...</td>\n      <td>2</td>\n      <td>NO</td>\n      <td>63400</td>\n      <td>6340</td>\n      <td>6340</td>\n      <td>50720</td>\n      <td>Chevrolet</td>\n      <td>Tahoe</td>\n      <td>2014</td>\n      <td>Y</td>\n    </tr>\n    <tr>\n      <th>4</th>\n      <td>228</td>\n      <td>44</td>\n      <td>367455</td>\n      <td>6/6/2014</td>\n      <td>IL</td>\n      <td>500/1000</td>\n      <td>1000</td>\n      <td>1583.91</td>\n      <td>6000000</td>\n      <td>610706</td>\n      <td>...</td>\n      <td>1</td>\n      <td>NO</td>\n      <td>6500</td>\n      <td>1300</td>\n      <td>650</td>\n      <td>4550</td>\n      <td>Accura</td>\n      <td>RSX</td>\n      <td>2009</td>\n      <td>N</td>\n    </tr>\n    <tr>\n      <th>...</th>\n      <td>...</td>\n      <td>...</td>\n      <td>...</td>\n      <td>...</td>\n      <td>...</td>\n      <td>...</td>\n      <td>...</td>\n      <td>...</td>\n      <td>...</td>\n      <td>...</td>\n      <td>...</td>\n      <td>...</td>\n      <td>...</td>\n      <td>...</td>\n      <td>...</td>\n      <td>...</td>\n      <td>...</td>\n      <td>...</td>\n      <td>...</td>\n      <td>...</td>\n      <td>...</td>\n    </tr>\n    <tr>\n      <th>95</th>\n      <td>80</td>\n      <td>25</td>\n      <td>992145</td>\n      <td>3/1/2012</td>\n      <td>IL</td>\n      <td>100/300</td>\n      <td>2000</td>\n      <td>1075.18</td>\n      <td>5000000</td>\n      <td>601112</td>\n      <td>...</td>\n      <td>0</td>\n      <td>YES</td>\n      <td>6930</td>\n      <td>1260</td>\n      <td>630</td>\n      <td>5040</td>\n      <td>Toyota</td>\n      <td>Highlander</td>\n      <td>2001</td>\n      <td>N</td>\n    </tr>\n    <tr>\n      <th>96</th>\n      <td>325</td>\n      <td>47</td>\n      <td>900628</td>\n      <td>2/5/2006</td>\n      <td>IN</td>\n      <td>500/1000</td>\n      <td>1000</td>\n      <td>1690.27</td>\n      <td>0</td>\n      <td>438830</td>\n      <td>...</td>\n      <td>3</td>\n      <td>NO</td>\n      <td>72930</td>\n      <td>6630</td>\n      <td>6630</td>\n      <td>59670</td>\n      <td>Dodge</td>\n      <td>RAM</td>\n      <td>2006</td>\n      <td>Y</td>\n    </tr>\n    <tr>\n      <th>97</th>\n      <td>29</td>\n      <td>25</td>\n      <td>235220</td>\n      <td>11/1/2014</td>\n      <td>IL</td>\n      <td>250/500</td>\n      <td>2000</td>\n      <td>1352.83</td>\n      <td>0</td>\n      <td>464959</td>\n      <td>...</td>\n      <td>2</td>\n      <td>YES</td>\n      <td>64890</td>\n      <td>7210</td>\n      <td>7210</td>\n      <td>50470</td>\n      <td>Nissan</td>\n      <td>Pathfinder</td>\n      <td>2013</td>\n      <td>Y</td>\n    </tr>\n    <tr>\n      <th>98</th>\n      <td>295</td>\n      <td>48</td>\n      <td>740019</td>\n      <td>6/17/2009</td>\n      <td>OH</td>\n      <td>250/500</td>\n      <td>1000</td>\n      <td>1148.73</td>\n      <td>0</td>\n      <td>439787</td>\n      <td>...</td>\n      <td>2</td>\n      <td>YES</td>\n      <td>5400</td>\n      <td>900</td>\n      <td>900</td>\n      <td>3600</td>\n      <td>Saab</td>\n      <td>95</td>\n      <td>1999</td>\n      <td>N</td>\n    </tr>\n    <tr>\n      <th>99</th>\n      <td>239</td>\n      <td>42</td>\n      <td>246882</td>\n      <td>9/20/1999</td>\n      <td>IL</td>\n      <td>100/300</td>\n      <td>1000</td>\n      <td>969.50</td>\n      <td>0</td>\n      <td>464839</td>\n      <td>...</td>\n      <td>0</td>\n      <td>?</td>\n      <td>5600</td>\n      <td>700</td>\n      <td>700</td>\n      <td>4200</td>\n      <td>Audi</td>\n      <td>A3</td>\n      <td>2007</td>\n      <td>N</td>\n    </tr>\n  </tbody>\n</table>\n<p>100 rows × 39 columns</p>\n</div>"
     },
     "execution_count": 57,
     "metadata": {},
     "output_type": "execute_result"
    }
   ],
   "source": [
    "data.head(100)"
   ],
   "metadata": {
    "collapsed": false,
    "ExecuteTime": {
     "end_time": "2024-05-19T03:53:31.601413Z",
     "start_time": "2024-05-19T03:53:31.594925400Z"
    }
   },
   "id": "ec50cfea22ba8b08",
   "execution_count": 57
  },
  {
   "cell_type": "markdown",
   "source": [
    "### Checking for the missing data\n",
    "# In this dataset missing values have been denoted by '?'\n",
    "# we are replacing ? with NaN for them to be imputed down the line."
   ],
   "metadata": {
    "collapsed": false
   },
   "id": "3bf2b81ac2863b25"
  },
  {
   "cell_type": "code",
   "outputs": [],
   "source": [
    "data.replace(\"?\", np.nan, inplace=True)"
   ],
   "metadata": {
    "collapsed": false,
    "ExecuteTime": {
     "end_time": "2024-05-19T03:53:38.501367600Z",
     "start_time": "2024-05-19T03:53:38.491025700Z"
    }
   },
   "id": "f18c1dd4ea8e3219",
   "execution_count": 58
  },
  {
   "cell_type": "code",
   "outputs": [
    {
     "data": {
      "text/plain": "months_as_customer               0\nage                              0\npolicy_number                    0\npolicy_bind_date                 0\npolicy_state                     0\npolicy_csl                       0\npolicy_deductable                0\npolicy_annual_premium            0\numbrella_limit                   0\ninsured_zip                      0\ninsured_sex                      0\ninsured_education_level          0\ninsured_occupation               0\ninsured_hobbies                  0\ninsured_relationship             0\ncapital-gains                    0\ncapital-loss                     0\nincident_date                    0\nincident_type                    0\ncollision_type                 178\nincident_severity                0\nauthorities_contacted           91\nincident_state                   0\nincident_city                    0\nincident_location                0\nincident_hour_of_the_day         0\nnumber_of_vehicles_involved      0\nproperty_damage                360\nbodily_injuries                  0\nwitnesses                        0\npolice_report_available        343\ntotal_claim_amount               0\ninjury_claim                     0\nproperty_claim                   0\nvehicle_claim                    0\nauto_make                        0\nauto_model                       0\nauto_year                        0\nfraud_reported                   0\ndtype: int64"
     },
     "execution_count": 60,
     "metadata": {},
     "output_type": "execute_result"
    }
   ],
   "source": [
    "data.isnull().sum()"
   ],
   "metadata": {
    "collapsed": false,
    "ExecuteTime": {
     "end_time": "2024-05-19T03:53:47.885953600Z",
     "start_time": "2024-05-19T03:53:47.873706700Z"
    }
   },
   "id": "66244437a2f67b1b",
   "execution_count": 60
  },
  {
   "cell_type": "markdown",
   "source": [
    "### Below column has missing values:\n",
    "collision type\n",
    "property damage\n",
    "police report available\n",
    "authorties contacted\n"
   ],
   "metadata": {
    "collapsed": false
   },
   "id": "c4f0f24f7394b6a9"
  },
  {
   "cell_type": "code",
   "outputs": [],
   "source": [
    "# list of columns not necessary for pfrediction\n",
    "cols_to_drop=['policy_number','policy_bind_date','policy_state','insured_zip','incident_location','incident_date','incident_state','incident_city','insured_hobbies','auto_make','auto_model','auto_year']"
   ],
   "metadata": {
    "collapsed": false,
    "ExecuteTime": {
     "end_time": "2024-05-19T03:53:58.209367100Z",
     "start_time": "2024-05-19T03:53:58.199340400Z"
    }
   },
   "id": "5fb47a20438f9543",
   "execution_count": 61
  },
  {
   "cell_type": "code",
   "outputs": [],
   "source": [
    "data.drop(columns=cols_to_drop,inplace=True)"
   ],
   "metadata": {
    "collapsed": false,
    "ExecuteTime": {
     "end_time": "2024-05-19T03:54:02.963316700Z",
     "start_time": "2024-05-19T03:54:02.950127200Z"
    }
   },
   "id": "69546deed9da02fb",
   "execution_count": 62
  },
  {
   "cell_type": "code",
   "outputs": [
    {
     "data": {
      "text/plain": "   months_as_customer  age policy_csl  policy_deductable  \\\n0                 328   48    250/500               1000   \n1                 228   42    250/500               2000   \n2                 134   29    100/300               2000   \n3                 256   41    250/500               2000   \n4                 228   44   500/1000               1000   \n\n   policy_annual_premium  umbrella_limit insured_sex insured_education_level  \\\n0                1406.91               0        MALE                      MD   \n1                1197.22         5000000        MALE                      MD   \n2                1413.14         5000000      FEMALE                     PhD   \n3                1415.74         6000000      FEMALE                     PhD   \n4                1583.91         6000000        MALE               Associate   \n\n  insured_occupation insured_relationship  ...  number_of_vehicles_involved  \\\n0       craft-repair              husband  ...                            1   \n1  machine-op-inspct       other-relative  ...                            1   \n2              sales            own-child  ...                            3   \n3       armed-forces            unmarried  ...                            1   \n4              sales            unmarried  ...                            1   \n\n   property_damage bodily_injuries witnesses police_report_available  \\\n0              YES               1         2                     YES   \n1              NaN               0         0                     NaN   \n2               NO               2         3                      NO   \n3              NaN               1         2                      NO   \n4               NO               0         1                      NO   \n\n  total_claim_amount  injury_claim  property_claim vehicle_claim  \\\n0              71610          6510           13020         52080   \n1               5070           780             780          3510   \n2              34650          7700            3850         23100   \n3              63400          6340            6340         50720   \n4               6500          1300             650          4550   \n\n   fraud_reported  \n0               Y  \n1               Y  \n2               N  \n3               Y  \n4               N  \n\n[5 rows x 27 columns]",
      "text/html": "<div>\n<style scoped>\n    .dataframe tbody tr th:only-of-type {\n        vertical-align: middle;\n    }\n\n    .dataframe tbody tr th {\n        vertical-align: top;\n    }\n\n    .dataframe thead th {\n        text-align: right;\n    }\n</style>\n<table border=\"1\" class=\"dataframe\">\n  <thead>\n    <tr style=\"text-align: right;\">\n      <th></th>\n      <th>months_as_customer</th>\n      <th>age</th>\n      <th>policy_csl</th>\n      <th>policy_deductable</th>\n      <th>policy_annual_premium</th>\n      <th>umbrella_limit</th>\n      <th>insured_sex</th>\n      <th>insured_education_level</th>\n      <th>insured_occupation</th>\n      <th>insured_relationship</th>\n      <th>...</th>\n      <th>number_of_vehicles_involved</th>\n      <th>property_damage</th>\n      <th>bodily_injuries</th>\n      <th>witnesses</th>\n      <th>police_report_available</th>\n      <th>total_claim_amount</th>\n      <th>injury_claim</th>\n      <th>property_claim</th>\n      <th>vehicle_claim</th>\n      <th>fraud_reported</th>\n    </tr>\n  </thead>\n  <tbody>\n    <tr>\n      <th>0</th>\n      <td>328</td>\n      <td>48</td>\n      <td>250/500</td>\n      <td>1000</td>\n      <td>1406.91</td>\n      <td>0</td>\n      <td>MALE</td>\n      <td>MD</td>\n      <td>craft-repair</td>\n      <td>husband</td>\n      <td>...</td>\n      <td>1</td>\n      <td>YES</td>\n      <td>1</td>\n      <td>2</td>\n      <td>YES</td>\n      <td>71610</td>\n      <td>6510</td>\n      <td>13020</td>\n      <td>52080</td>\n      <td>Y</td>\n    </tr>\n    <tr>\n      <th>1</th>\n      <td>228</td>\n      <td>42</td>\n      <td>250/500</td>\n      <td>2000</td>\n      <td>1197.22</td>\n      <td>5000000</td>\n      <td>MALE</td>\n      <td>MD</td>\n      <td>machine-op-inspct</td>\n      <td>other-relative</td>\n      <td>...</td>\n      <td>1</td>\n      <td>NaN</td>\n      <td>0</td>\n      <td>0</td>\n      <td>NaN</td>\n      <td>5070</td>\n      <td>780</td>\n      <td>780</td>\n      <td>3510</td>\n      <td>Y</td>\n    </tr>\n    <tr>\n      <th>2</th>\n      <td>134</td>\n      <td>29</td>\n      <td>100/300</td>\n      <td>2000</td>\n      <td>1413.14</td>\n      <td>5000000</td>\n      <td>FEMALE</td>\n      <td>PhD</td>\n      <td>sales</td>\n      <td>own-child</td>\n      <td>...</td>\n      <td>3</td>\n      <td>NO</td>\n      <td>2</td>\n      <td>3</td>\n      <td>NO</td>\n      <td>34650</td>\n      <td>7700</td>\n      <td>3850</td>\n      <td>23100</td>\n      <td>N</td>\n    </tr>\n    <tr>\n      <th>3</th>\n      <td>256</td>\n      <td>41</td>\n      <td>250/500</td>\n      <td>2000</td>\n      <td>1415.74</td>\n      <td>6000000</td>\n      <td>FEMALE</td>\n      <td>PhD</td>\n      <td>armed-forces</td>\n      <td>unmarried</td>\n      <td>...</td>\n      <td>1</td>\n      <td>NaN</td>\n      <td>1</td>\n      <td>2</td>\n      <td>NO</td>\n      <td>63400</td>\n      <td>6340</td>\n      <td>6340</td>\n      <td>50720</td>\n      <td>Y</td>\n    </tr>\n    <tr>\n      <th>4</th>\n      <td>228</td>\n      <td>44</td>\n      <td>500/1000</td>\n      <td>1000</td>\n      <td>1583.91</td>\n      <td>6000000</td>\n      <td>MALE</td>\n      <td>Associate</td>\n      <td>sales</td>\n      <td>unmarried</td>\n      <td>...</td>\n      <td>1</td>\n      <td>NO</td>\n      <td>0</td>\n      <td>1</td>\n      <td>NO</td>\n      <td>6500</td>\n      <td>1300</td>\n      <td>650</td>\n      <td>4550</td>\n      <td>N</td>\n    </tr>\n  </tbody>\n</table>\n<p>5 rows × 27 columns</p>\n</div>"
     },
     "execution_count": 63,
     "metadata": {},
     "output_type": "execute_result"
    }
   ],
   "source": [
    "data.head()"
   ],
   "metadata": {
    "collapsed": false,
    "ExecuteTime": {
     "end_time": "2024-05-19T03:54:04.214203100Z",
     "start_time": "2024-05-19T03:54:04.190998400Z"
    }
   },
   "id": "f900c894c2d6d8c7",
   "execution_count": 63
  },
  {
   "cell_type": "markdown",
   "source": [
    "### Checking for the number of categorical & numerical columns"
   ],
   "metadata": {
    "collapsed": false
   },
   "id": "9ea66b84adef2363"
  },
  {
   "cell_type": "code",
   "outputs": [
    {
     "name": "stdout",
     "output_type": "stream",
     "text": [
      "<class 'pandas.core.frame.DataFrame'>\n",
      "RangeIndex: 1000 entries, 0 to 999\n",
      "Data columns (total 27 columns):\n",
      " #   Column                       Non-Null Count  Dtype  \n",
      "---  ------                       --------------  -----  \n",
      " 0   months_as_customer           1000 non-null   int64  \n",
      " 1   age                          1000 non-null   int64  \n",
      " 2   policy_csl                   1000 non-null   object \n",
      " 3   policy_deductable            1000 non-null   int64  \n",
      " 4   policy_annual_premium        1000 non-null   float64\n",
      " 5   umbrella_limit               1000 non-null   int64  \n",
      " 6   insured_sex                  1000 non-null   object \n",
      " 7   insured_education_level      1000 non-null   object \n",
      " 8   insured_occupation           1000 non-null   object \n",
      " 9   insured_relationship         1000 non-null   object \n",
      " 10  capital-gains                1000 non-null   int64  \n",
      " 11  capital-loss                 1000 non-null   int64  \n",
      " 12  incident_type                1000 non-null   object \n",
      " 13  collision_type               822 non-null    object \n",
      " 14  incident_severity            1000 non-null   object \n",
      " 15  authorities_contacted        909 non-null    object \n",
      " 16  incident_hour_of_the_day     1000 non-null   int64  \n",
      " 17  number_of_vehicles_involved  1000 non-null   int64  \n",
      " 18  property_damage              640 non-null    object \n",
      " 19  bodily_injuries              1000 non-null   int64  \n",
      " 20  witnesses                    1000 non-null   int64  \n",
      " 21  police_report_available      657 non-null    object \n",
      " 22  total_claim_amount           1000 non-null   int64  \n",
      " 23  injury_claim                 1000 non-null   int64  \n",
      " 24  property_claim               1000 non-null   int64  \n",
      " 25  vehicle_claim                1000 non-null   int64  \n",
      " 26  fraud_reported               1000 non-null   object \n",
      "dtypes: float64(1), int64(14), object(12)\n",
      "memory usage: 211.1+ KB\n"
     ]
    }
   ],
   "source": [
    "data.info()"
   ],
   "metadata": {
    "collapsed": false,
    "ExecuteTime": {
     "end_time": "2024-05-19T03:54:12.877475Z",
     "start_time": "2024-05-19T03:54:12.864790300Z"
    }
   },
   "id": "e5ab9eb2b4f45c5",
   "execution_count": 64
  },
  {
   "cell_type": "markdown",
   "source": [
    "### As the column which has the missing values are categorical in nature thus would be using the categorical imputer"
   ],
   "metadata": {
    "collapsed": false
   },
   "id": "3d1a2877505b2bb5"
  },
  {
   "cell_type": "code",
   "outputs": [],
   "source": [
    "from sklearn_pandas.categorical_imputer import CategoricalImputer\n",
    "imputer = CategoricalImputer()\n",
    "data['collision_type']=imputer.fit_transform(data['collision_type'])\n",
    "data['property_damage']=imputer.fit_transform(data['property_damage'])\n",
    "data['police_report_available']=imputer.fit_transform(data['police_report_available'])"
   ],
   "metadata": {
    "collapsed": false,
    "ExecuteTime": {
     "end_time": "2024-05-19T03:54:18.354872Z",
     "start_time": "2024-05-19T03:54:18.345494Z"
    }
   },
   "id": "13360fa50f7aacba",
   "execution_count": 65
  },
  {
   "cell_type": "code",
   "outputs": [
    {
     "name": "stdout",
     "output_type": "stream",
     "text": [
      "<class 'pandas.core.frame.DataFrame'>\n",
      "RangeIndex: 1000 entries, 0 to 999\n",
      "Data columns (total 27 columns):\n",
      " #   Column                       Non-Null Count  Dtype  \n",
      "---  ------                       --------------  -----  \n",
      " 0   months_as_customer           1000 non-null   int64  \n",
      " 1   age                          1000 non-null   int64  \n",
      " 2   policy_csl                   1000 non-null   object \n",
      " 3   policy_deductable            1000 non-null   int64  \n",
      " 4   policy_annual_premium        1000 non-null   float64\n",
      " 5   umbrella_limit               1000 non-null   int64  \n",
      " 6   insured_sex                  1000 non-null   object \n",
      " 7   insured_education_level      1000 non-null   object \n",
      " 8   insured_occupation           1000 non-null   object \n",
      " 9   insured_relationship         1000 non-null   object \n",
      " 10  capital-gains                1000 non-null   int64  \n",
      " 11  capital-loss                 1000 non-null   int64  \n",
      " 12  incident_type                1000 non-null   object \n",
      " 13  collision_type               1000 non-null   object \n",
      " 14  incident_severity            1000 non-null   object \n",
      " 15  authorities_contacted        909 non-null    object \n",
      " 16  incident_hour_of_the_day     1000 non-null   int64  \n",
      " 17  number_of_vehicles_involved  1000 non-null   int64  \n",
      " 18  property_damage              1000 non-null   object \n",
      " 19  bodily_injuries              1000 non-null   int64  \n",
      " 20  witnesses                    1000 non-null   int64  \n",
      " 21  police_report_available      1000 non-null   object \n",
      " 22  total_claim_amount           1000 non-null   int64  \n",
      " 23  injury_claim                 1000 non-null   int64  \n",
      " 24  property_claim               1000 non-null   int64  \n",
      " 25  vehicle_claim                1000 non-null   int64  \n",
      " 26  fraud_reported               1000 non-null   object \n",
      "dtypes: float64(1), int64(14), object(12)\n",
      "memory usage: 211.1+ KB\n"
     ]
    }
   ],
   "source": [
    "# Checking again for the missing value after the imputation\n",
    "data.info()"
   ],
   "metadata": {
    "collapsed": false,
    "ExecuteTime": {
     "end_time": "2024-05-19T03:54:25.093659400Z",
     "start_time": "2024-05-19T03:54:25.085363500Z"
    }
   },
   "id": "b2aa41309eebba05",
   "execution_count": 66
  },
  {
   "cell_type": "code",
   "outputs": [
    {
     "data": {
      "text/plain": "   months_as_customer  age policy_csl  policy_deductable  \\\n0                 328   48    250/500               1000   \n1                 228   42    250/500               2000   \n2                 134   29    100/300               2000   \n3                 256   41    250/500               2000   \n4                 228   44   500/1000               1000   \n\n   policy_annual_premium  umbrella_limit insured_sex insured_education_level  \\\n0                1406.91               0        MALE                      MD   \n1                1197.22         5000000        MALE                      MD   \n2                1413.14         5000000      FEMALE                     PhD   \n3                1415.74         6000000      FEMALE                     PhD   \n4                1583.91         6000000        MALE               Associate   \n\n  insured_occupation insured_relationship  ...  number_of_vehicles_involved  \\\n0       craft-repair              husband  ...                            1   \n1  machine-op-inspct       other-relative  ...                            1   \n2              sales            own-child  ...                            3   \n3       armed-forces            unmarried  ...                            1   \n4              sales            unmarried  ...                            1   \n\n   property_damage bodily_injuries witnesses police_report_available  \\\n0              YES               1         2                     YES   \n1               NO               0         0                      NO   \n2               NO               2         3                      NO   \n3               NO               1         2                      NO   \n4               NO               0         1                      NO   \n\n  total_claim_amount  injury_claim  property_claim vehicle_claim  \\\n0              71610          6510           13020         52080   \n1               5070           780             780          3510   \n2              34650          7700            3850         23100   \n3              63400          6340            6340         50720   \n4               6500          1300             650          4550   \n\n   fraud_reported  \n0               Y  \n1               Y  \n2               N  \n3               Y  \n4               N  \n\n[5 rows x 27 columns]",
      "text/html": "<div>\n<style scoped>\n    .dataframe tbody tr th:only-of-type {\n        vertical-align: middle;\n    }\n\n    .dataframe tbody tr th {\n        vertical-align: top;\n    }\n\n    .dataframe thead th {\n        text-align: right;\n    }\n</style>\n<table border=\"1\" class=\"dataframe\">\n  <thead>\n    <tr style=\"text-align: right;\">\n      <th></th>\n      <th>months_as_customer</th>\n      <th>age</th>\n      <th>policy_csl</th>\n      <th>policy_deductable</th>\n      <th>policy_annual_premium</th>\n      <th>umbrella_limit</th>\n      <th>insured_sex</th>\n      <th>insured_education_level</th>\n      <th>insured_occupation</th>\n      <th>insured_relationship</th>\n      <th>...</th>\n      <th>number_of_vehicles_involved</th>\n      <th>property_damage</th>\n      <th>bodily_injuries</th>\n      <th>witnesses</th>\n      <th>police_report_available</th>\n      <th>total_claim_amount</th>\n      <th>injury_claim</th>\n      <th>property_claim</th>\n      <th>vehicle_claim</th>\n      <th>fraud_reported</th>\n    </tr>\n  </thead>\n  <tbody>\n    <tr>\n      <th>0</th>\n      <td>328</td>\n      <td>48</td>\n      <td>250/500</td>\n      <td>1000</td>\n      <td>1406.91</td>\n      <td>0</td>\n      <td>MALE</td>\n      <td>MD</td>\n      <td>craft-repair</td>\n      <td>husband</td>\n      <td>...</td>\n      <td>1</td>\n      <td>YES</td>\n      <td>1</td>\n      <td>2</td>\n      <td>YES</td>\n      <td>71610</td>\n      <td>6510</td>\n      <td>13020</td>\n      <td>52080</td>\n      <td>Y</td>\n    </tr>\n    <tr>\n      <th>1</th>\n      <td>228</td>\n      <td>42</td>\n      <td>250/500</td>\n      <td>2000</td>\n      <td>1197.22</td>\n      <td>5000000</td>\n      <td>MALE</td>\n      <td>MD</td>\n      <td>machine-op-inspct</td>\n      <td>other-relative</td>\n      <td>...</td>\n      <td>1</td>\n      <td>NO</td>\n      <td>0</td>\n      <td>0</td>\n      <td>NO</td>\n      <td>5070</td>\n      <td>780</td>\n      <td>780</td>\n      <td>3510</td>\n      <td>Y</td>\n    </tr>\n    <tr>\n      <th>2</th>\n      <td>134</td>\n      <td>29</td>\n      <td>100/300</td>\n      <td>2000</td>\n      <td>1413.14</td>\n      <td>5000000</td>\n      <td>FEMALE</td>\n      <td>PhD</td>\n      <td>sales</td>\n      <td>own-child</td>\n      <td>...</td>\n      <td>3</td>\n      <td>NO</td>\n      <td>2</td>\n      <td>3</td>\n      <td>NO</td>\n      <td>34650</td>\n      <td>7700</td>\n      <td>3850</td>\n      <td>23100</td>\n      <td>N</td>\n    </tr>\n    <tr>\n      <th>3</th>\n      <td>256</td>\n      <td>41</td>\n      <td>250/500</td>\n      <td>2000</td>\n      <td>1415.74</td>\n      <td>6000000</td>\n      <td>FEMALE</td>\n      <td>PhD</td>\n      <td>armed-forces</td>\n      <td>unmarried</td>\n      <td>...</td>\n      <td>1</td>\n      <td>NO</td>\n      <td>1</td>\n      <td>2</td>\n      <td>NO</td>\n      <td>63400</td>\n      <td>6340</td>\n      <td>6340</td>\n      <td>50720</td>\n      <td>Y</td>\n    </tr>\n    <tr>\n      <th>4</th>\n      <td>228</td>\n      <td>44</td>\n      <td>500/1000</td>\n      <td>1000</td>\n      <td>1583.91</td>\n      <td>6000000</td>\n      <td>MALE</td>\n      <td>Associate</td>\n      <td>sales</td>\n      <td>unmarried</td>\n      <td>...</td>\n      <td>1</td>\n      <td>NO</td>\n      <td>0</td>\n      <td>1</td>\n      <td>NO</td>\n      <td>6500</td>\n      <td>1300</td>\n      <td>650</td>\n      <td>4550</td>\n      <td>N</td>\n    </tr>\n  </tbody>\n</table>\n<p>5 rows × 27 columns</p>\n</div>"
     },
     "execution_count": 70,
     "metadata": {},
     "output_type": "execute_result"
    }
   ],
   "source": [
    "data.head()"
   ],
   "metadata": {
    "collapsed": false,
    "ExecuteTime": {
     "end_time": "2024-05-19T03:56:36.462154Z",
     "start_time": "2024-05-19T03:56:36.449811400Z"
    }
   },
   "id": "7b5fdadab7b694a8",
   "execution_count": 70
  },
  {
   "cell_type": "markdown",
   "source": [
    "# List out the columns in dataframe which are categorical in nature\n"
   ],
   "metadata": {
    "collapsed": false
   },
   "id": "bf97f3b180c37bb0"
  },
  {
   "cell_type": "code",
   "outputs": [
    {
     "data": {
      "text/plain": "Index(['policy_csl', 'insured_sex', 'insured_education_level',\n       'insured_occupation', 'insured_relationship', 'incident_type',\n       'collision_type', 'incident_severity', 'authorities_contacted',\n       'property_damage', 'police_report_available', 'fraud_reported'],\n      dtype='object')"
     },
     "execution_count": 80,
     "metadata": {},
     "output_type": "execute_result"
    }
   ],
   "source": [
    "cat_df=data.select_dtypes(include=['object']).copy()\n",
    "cat_df.columns"
   ],
   "metadata": {
    "collapsed": false,
    "ExecuteTime": {
     "end_time": "2024-05-19T05:17:07.873032Z",
     "start_time": "2024-05-19T05:17:07.868587100Z"
    }
   },
   "id": "73eab0324ed88b40",
   "execution_count": 80
  },
  {
   "cell_type": "markdown",
   "source": [],
   "metadata": {
    "collapsed": false
   },
   "id": "13141c11a48f8a0"
  },
  {
   "cell_type": "code",
   "outputs": [
    {
     "data": {
      "text/plain": "  policy_csl insured_sex insured_education_level insured_occupation  \\\n0    250/500        MALE                      MD       craft-repair   \n1    250/500        MALE                      MD  machine-op-inspct   \n2    100/300      FEMALE                     PhD              sales   \n3    250/500      FEMALE                     PhD       armed-forces   \n4   500/1000        MALE               Associate              sales   \n\n  insured_relationship             incident_type   collision_type  \\\n0              husband  Single Vehicle Collision   Side Collision   \n1       other-relative             Vehicle Theft   Rear Collision   \n2            own-child   Multi-vehicle Collision   Rear Collision   \n3            unmarried  Single Vehicle Collision  Front Collision   \n4            unmarried             Vehicle Theft   Rear Collision   \n\n  incident_severity authorities_contacted property_damage  \\\n0      Major Damage                Police             YES   \n1      Minor Damage                Police              NO   \n2      Minor Damage                Police              NO   \n3      Major Damage                Police              NO   \n4      Minor Damage                   NaN              NO   \n\n  police_report_available fraud_reported  \n0                     YES              Y  \n1                      NO              Y  \n2                      NO              N  \n3                      NO              Y  \n4                      NO              N  ",
      "text/html": "<div>\n<style scoped>\n    .dataframe tbody tr th:only-of-type {\n        vertical-align: middle;\n    }\n\n    .dataframe tbody tr th {\n        vertical-align: top;\n    }\n\n    .dataframe thead th {\n        text-align: right;\n    }\n</style>\n<table border=\"1\" class=\"dataframe\">\n  <thead>\n    <tr style=\"text-align: right;\">\n      <th></th>\n      <th>policy_csl</th>\n      <th>insured_sex</th>\n      <th>insured_education_level</th>\n      <th>insured_occupation</th>\n      <th>insured_relationship</th>\n      <th>incident_type</th>\n      <th>collision_type</th>\n      <th>incident_severity</th>\n      <th>authorities_contacted</th>\n      <th>property_damage</th>\n      <th>police_report_available</th>\n      <th>fraud_reported</th>\n    </tr>\n  </thead>\n  <tbody>\n    <tr>\n      <th>0</th>\n      <td>250/500</td>\n      <td>MALE</td>\n      <td>MD</td>\n      <td>craft-repair</td>\n      <td>husband</td>\n      <td>Single Vehicle Collision</td>\n      <td>Side Collision</td>\n      <td>Major Damage</td>\n      <td>Police</td>\n      <td>YES</td>\n      <td>YES</td>\n      <td>Y</td>\n    </tr>\n    <tr>\n      <th>1</th>\n      <td>250/500</td>\n      <td>MALE</td>\n      <td>MD</td>\n      <td>machine-op-inspct</td>\n      <td>other-relative</td>\n      <td>Vehicle Theft</td>\n      <td>Rear Collision</td>\n      <td>Minor Damage</td>\n      <td>Police</td>\n      <td>NO</td>\n      <td>NO</td>\n      <td>Y</td>\n    </tr>\n    <tr>\n      <th>2</th>\n      <td>100/300</td>\n      <td>FEMALE</td>\n      <td>PhD</td>\n      <td>sales</td>\n      <td>own-child</td>\n      <td>Multi-vehicle Collision</td>\n      <td>Rear Collision</td>\n      <td>Minor Damage</td>\n      <td>Police</td>\n      <td>NO</td>\n      <td>NO</td>\n      <td>N</td>\n    </tr>\n    <tr>\n      <th>3</th>\n      <td>250/500</td>\n      <td>FEMALE</td>\n      <td>PhD</td>\n      <td>armed-forces</td>\n      <td>unmarried</td>\n      <td>Single Vehicle Collision</td>\n      <td>Front Collision</td>\n      <td>Major Damage</td>\n      <td>Police</td>\n      <td>NO</td>\n      <td>NO</td>\n      <td>Y</td>\n    </tr>\n    <tr>\n      <th>4</th>\n      <td>500/1000</td>\n      <td>MALE</td>\n      <td>Associate</td>\n      <td>sales</td>\n      <td>unmarried</td>\n      <td>Vehicle Theft</td>\n      <td>Rear Collision</td>\n      <td>Minor Damage</td>\n      <td>NaN</td>\n      <td>NO</td>\n      <td>NO</td>\n      <td>N</td>\n    </tr>\n  </tbody>\n</table>\n</div>"
     },
     "execution_count": 81,
     "metadata": {},
     "output_type": "execute_result"
    }
   ],
   "source": [
    "cat_df.head()"
   ],
   "metadata": {
    "collapsed": false,
    "ExecuteTime": {
     "end_time": "2024-05-19T05:17:14.553364800Z",
     "start_time": "2024-05-19T05:17:14.540509100Z"
    }
   },
   "id": "41bf91a95ae2cda6",
   "execution_count": 81
  },
  {
   "cell_type": "code",
   "outputs": [],
   "source": [],
   "metadata": {
    "collapsed": false,
    "ExecuteTime": {
     "end_time": "2024-05-19T03:35:30.240364400Z",
     "start_time": "2024-05-19T03:35:30.226960300Z"
    }
   },
   "id": "6ef6359d26c2581f",
   "execution_count": 36
  },
  {
   "cell_type": "markdown",
   "source": [
    "### Checking the cardinality of each categorical column to be used while mapping to the numerical columns"
   ],
   "metadata": {
    "collapsed": false
   },
   "id": "2d05a3ca078d4d2d"
  },
  {
   "cell_type": "code",
   "outputs": [
    {
     "data": {
      "text/plain": "array(['250/500', '100/300', '500/1000'], dtype=object)"
     },
     "execution_count": 82,
     "metadata": {},
     "output_type": "execute_result"
    }
   ],
   "source": [
    "cat_df['policy_csl'].unique()"
   ],
   "metadata": {
    "collapsed": false,
    "ExecuteTime": {
     "end_time": "2024-05-19T05:17:23.718772800Z",
     "start_time": "2024-05-19T05:17:23.706048900Z"
    }
   },
   "id": "8d95e683f617678a",
   "execution_count": 82
  },
  {
   "cell_type": "code",
   "outputs": [
    {
     "data": {
      "text/plain": "array(['MALE', 'FEMALE'], dtype=object)"
     },
     "execution_count": 83,
     "metadata": {},
     "output_type": "execute_result"
    }
   ],
   "source": [
    "    cat_df['insured_sex'].unique()"
   ],
   "metadata": {
    "collapsed": false,
    "ExecuteTime": {
     "end_time": "2024-05-19T05:17:24.940067600Z",
     "start_time": "2024-05-19T05:17:24.931200900Z"
    }
   },
   "id": "a219db4aa66d3305",
   "execution_count": 83
  },
  {
   "cell_type": "code",
   "outputs": [
    {
     "data": {
      "text/plain": "array(['MD', 'PhD', 'Associate', 'Masters', 'High School', 'College',\n       'JD'], dtype=object)"
     },
     "execution_count": 84,
     "metadata": {},
     "output_type": "execute_result"
    }
   ],
   "source": [
    "cat_df['insured_education_level'].unique()"
   ],
   "metadata": {
    "collapsed": false,
    "ExecuteTime": {
     "end_time": "2024-05-19T05:17:26.013986Z",
     "start_time": "2024-05-19T05:17:26.007046100Z"
    }
   },
   "id": "a48dc3df48e8e5da",
   "execution_count": 84
  },
  {
   "cell_type": "code",
   "outputs": [
    {
     "data": {
      "text/plain": "array(['craft-repair', 'machine-op-inspct', 'sales', 'armed-forces',\n       'tech-support', 'prof-specialty', 'other-service',\n       'priv-house-serv', 'exec-managerial', 'protective-serv',\n       'transport-moving', 'handlers-cleaners', 'adm-clerical',\n       'farming-fishing'], dtype=object)"
     },
     "execution_count": 85,
     "metadata": {},
     "output_type": "execute_result"
    }
   ],
   "source": [
    "cat_df['insured_occupation'].unique()"
   ],
   "metadata": {
    "collapsed": false,
    "ExecuteTime": {
     "end_time": "2024-05-19T05:17:27.239473Z",
     "start_time": "2024-05-19T05:17:27.232558500Z"
    }
   },
   "id": "f0a042a39f6addf4",
   "execution_count": 85
  },
  {
   "cell_type": "code",
   "outputs": [],
   "source": [
    "# custom mapping for all the categorical columns\n",
    "cat_df['policy_csl']=cat_df['policy_csl'].map({'100/300' : 1, '250/500' : 2.5 ,'500/1000':5})   \n",
    "cat_df['insured_education_level']=cat_df['insured_education_level'].map({'JD' : 1, 'High School' : 2,'College':3,'Masters':4,'Associate':5,'MD':6,'PhD':7})\n",
    "cat_df['incident_severity']=cat_df['incident_severity'].map({'Trivial Damage' : 1, 'Minor Damage' : 2,'Major Damage':3,'Total Loss':4})\n",
    "cat_df['insured_sex']=cat_df['insured_sex'].map({'FEMALE' : 0, 'MALE' : 1})\n",
    "cat_df['property_damage']=cat_df['property_damage'].map({'NO' : 0, 'YES' : 1})\n",
    "cat_df['police_report_available'] = cat_df['police_report_available'].map({'NO' : 0, 'YES' : 1})\n",
    "cat_df['fraud_reported'] = cat_df['fraud_reported'].map({'N' : 0, 'Y' : 1})"
   ],
   "metadata": {
    "collapsed": false,
    "ExecuteTime": {
     "end_time": "2024-05-19T05:17:36.717514500Z",
     "start_time": "2024-05-19T05:17:36.701605500Z"
    }
   },
   "id": "ab5e08b68c4b1a8e",
   "execution_count": 86
  },
  {
   "cell_type": "code",
   "outputs": [
    {
     "data": {
      "text/plain": "   policy_csl  insured_sex  insured_education_level insured_occupation  \\\n0         2.5            1                        6       craft-repair   \n1         2.5            1                        6  machine-op-inspct   \n2         1.0            0                        7              sales   \n3         2.5            0                        7       armed-forces   \n4         5.0            1                        5              sales   \n\n  insured_relationship             incident_type   collision_type  \\\n0              husband  Single Vehicle Collision   Side Collision   \n1       other-relative             Vehicle Theft   Rear Collision   \n2            own-child   Multi-vehicle Collision   Rear Collision   \n3            unmarried  Single Vehicle Collision  Front Collision   \n4            unmarried             Vehicle Theft   Rear Collision   \n\n   incident_severity authorities_contacted  property_damage  \\\n0                  3                Police                1   \n1                  2                Police                0   \n2                  2                Police                0   \n3                  3                Police                0   \n4                  2                   NaN                0   \n\n   police_report_available  fraud_reported  \n0                        1               1  \n1                        0               1  \n2                        0               0  \n3                        0               1  \n4                        0               0  ",
      "text/html": "<div>\n<style scoped>\n    .dataframe tbody tr th:only-of-type {\n        vertical-align: middle;\n    }\n\n    .dataframe tbody tr th {\n        vertical-align: top;\n    }\n\n    .dataframe thead th {\n        text-align: right;\n    }\n</style>\n<table border=\"1\" class=\"dataframe\">\n  <thead>\n    <tr style=\"text-align: right;\">\n      <th></th>\n      <th>policy_csl</th>\n      <th>insured_sex</th>\n      <th>insured_education_level</th>\n      <th>insured_occupation</th>\n      <th>insured_relationship</th>\n      <th>incident_type</th>\n      <th>collision_type</th>\n      <th>incident_severity</th>\n      <th>authorities_contacted</th>\n      <th>property_damage</th>\n      <th>police_report_available</th>\n      <th>fraud_reported</th>\n    </tr>\n  </thead>\n  <tbody>\n    <tr>\n      <th>0</th>\n      <td>2.5</td>\n      <td>1</td>\n      <td>6</td>\n      <td>craft-repair</td>\n      <td>husband</td>\n      <td>Single Vehicle Collision</td>\n      <td>Side Collision</td>\n      <td>3</td>\n      <td>Police</td>\n      <td>1</td>\n      <td>1</td>\n      <td>1</td>\n    </tr>\n    <tr>\n      <th>1</th>\n      <td>2.5</td>\n      <td>1</td>\n      <td>6</td>\n      <td>machine-op-inspct</td>\n      <td>other-relative</td>\n      <td>Vehicle Theft</td>\n      <td>Rear Collision</td>\n      <td>2</td>\n      <td>Police</td>\n      <td>0</td>\n      <td>0</td>\n      <td>1</td>\n    </tr>\n    <tr>\n      <th>2</th>\n      <td>1.0</td>\n      <td>0</td>\n      <td>7</td>\n      <td>sales</td>\n      <td>own-child</td>\n      <td>Multi-vehicle Collision</td>\n      <td>Rear Collision</td>\n      <td>2</td>\n      <td>Police</td>\n      <td>0</td>\n      <td>0</td>\n      <td>0</td>\n    </tr>\n    <tr>\n      <th>3</th>\n      <td>2.5</td>\n      <td>0</td>\n      <td>7</td>\n      <td>armed-forces</td>\n      <td>unmarried</td>\n      <td>Single Vehicle Collision</td>\n      <td>Front Collision</td>\n      <td>3</td>\n      <td>Police</td>\n      <td>0</td>\n      <td>0</td>\n      <td>1</td>\n    </tr>\n    <tr>\n      <th>4</th>\n      <td>5.0</td>\n      <td>1</td>\n      <td>5</td>\n      <td>sales</td>\n      <td>unmarried</td>\n      <td>Vehicle Theft</td>\n      <td>Rear Collision</td>\n      <td>2</td>\n      <td>NaN</td>\n      <td>0</td>\n      <td>0</td>\n      <td>0</td>\n    </tr>\n  </tbody>\n</table>\n</div>"
     },
     "execution_count": 87,
     "metadata": {},
     "output_type": "execute_result"
    }
   ],
   "source": [
    "cat_df.head()"
   ],
   "metadata": {
    "collapsed": false,
    "ExecuteTime": {
     "end_time": "2024-05-19T05:17:39.999694400Z",
     "start_time": "2024-05-19T05:17:39.992016100Z"
    }
   },
   "id": "fa6482ab86da6fef",
   "execution_count": 87
  },
  {
   "cell_type": "code",
   "outputs": [],
   "source": [
    "### Dropping columns which already got custom encoding\n",
    "for col in cat_df.drop(columns=['policy_csl','insured_education_level','incident_severity','insured_sex','property_damage','police_report_available','fraud_reported']).columns:\n",
    "    cat_df= pd.get_dummies(cat_df, columns=[col], prefix = [col], drop_first=True,dtype=int)\n",
    "     "
   ],
   "metadata": {
    "collapsed": false,
    "ExecuteTime": {
     "end_time": "2024-05-19T05:46:43.417555400Z",
     "start_time": "2024-05-19T05:46:43.391801900Z"
    }
   },
   "id": "839f8ddf8ca48b86",
   "execution_count": 98
  },
  {
   "cell_type": "code",
   "outputs": [
    {
     "data": {
      "text/plain": "   policy_csl  insured_sex  insured_education_level  incident_severity  \\\n0         2.5            1                        6                  3   \n1         2.5            1                        6                  2   \n2         1.0            0                        7                  2   \n3         2.5            0                        7                  3   \n4         5.0            1                        5                  2   \n\n   property_damage  police_report_available  fraud_reported  \\\n0                1                        1               1   \n1                0                        0               1   \n2                0                        0               0   \n3                0                        0               1   \n4                0                        0               0   \n\n   insured_occupation_armed-forces_True_True  \\\n0                                          0   \n1                                          0   \n2                                          0   \n3                                          1   \n4                                          0   \n\n   insured_occupation_craft-repair_True_True  \\\n0                                          1   \n1                                          0   \n2                                          0   \n3                                          0   \n4                                          0   \n\n   insured_occupation_exec-managerial_True_True  ...  \\\n0                                             0  ...   \n1                                             0  ...   \n2                                             0  ...   \n3                                             0  ...   \n4                                             0  ...   \n\n   insured_relationship_unmarried_True_True  \\\n0                                         0   \n1                                         0   \n2                                         0   \n3                                         1   \n4                                         1   \n\n   insured_relationship_wife_True_True  incident_type_Parked Car_True_True  \\\n0                                    0                                   0   \n1                                    0                                   0   \n2                                    0                                   0   \n3                                    0                                   0   \n4                                    0                                   0   \n\n   incident_type_Single Vehicle Collision_True_True  \\\n0                                                 1   \n1                                                 0   \n2                                                 0   \n3                                                 1   \n4                                                 0   \n\n   incident_type_Vehicle Theft_True_True  \\\n0                                      0   \n1                                      1   \n2                                      0   \n3                                      0   \n4                                      1   \n\n   collision_type_Rear Collision_True_True  \\\n0                                        0   \n1                                        1   \n2                                        1   \n3                                        0   \n4                                        1   \n\n   collision_type_Side Collision_True_True  \\\n0                                        1   \n1                                        0   \n2                                        0   \n3                                        0   \n4                                        0   \n\n   authorities_contacted_Fire_True_True  \\\n0                                     0   \n1                                     0   \n2                                     0   \n3                                     0   \n4                                     0   \n\n   authorities_contacted_Other_True_True  \\\n0                                      0   \n1                                      0   \n2                                      0   \n3                                      0   \n4                                      0   \n\n   authorities_contacted_Police_True_True  \n0                                       1  \n1                                       1  \n2                                       1  \n3                                       1  \n4                                       0  \n\n[5 rows x 33 columns]",
      "text/html": "<div>\n<style scoped>\n    .dataframe tbody tr th:only-of-type {\n        vertical-align: middle;\n    }\n\n    .dataframe tbody tr th {\n        vertical-align: top;\n    }\n\n    .dataframe thead th {\n        text-align: right;\n    }\n</style>\n<table border=\"1\" class=\"dataframe\">\n  <thead>\n    <tr style=\"text-align: right;\">\n      <th></th>\n      <th>policy_csl</th>\n      <th>insured_sex</th>\n      <th>insured_education_level</th>\n      <th>incident_severity</th>\n      <th>property_damage</th>\n      <th>police_report_available</th>\n      <th>fraud_reported</th>\n      <th>insured_occupation_armed-forces_True_True</th>\n      <th>insured_occupation_craft-repair_True_True</th>\n      <th>insured_occupation_exec-managerial_True_True</th>\n      <th>...</th>\n      <th>insured_relationship_unmarried_True_True</th>\n      <th>insured_relationship_wife_True_True</th>\n      <th>incident_type_Parked Car_True_True</th>\n      <th>incident_type_Single Vehicle Collision_True_True</th>\n      <th>incident_type_Vehicle Theft_True_True</th>\n      <th>collision_type_Rear Collision_True_True</th>\n      <th>collision_type_Side Collision_True_True</th>\n      <th>authorities_contacted_Fire_True_True</th>\n      <th>authorities_contacted_Other_True_True</th>\n      <th>authorities_contacted_Police_True_True</th>\n    </tr>\n  </thead>\n  <tbody>\n    <tr>\n      <th>0</th>\n      <td>2.5</td>\n      <td>1</td>\n      <td>6</td>\n      <td>3</td>\n      <td>1</td>\n      <td>1</td>\n      <td>1</td>\n      <td>0</td>\n      <td>1</td>\n      <td>0</td>\n      <td>...</td>\n      <td>0</td>\n      <td>0</td>\n      <td>0</td>\n      <td>1</td>\n      <td>0</td>\n      <td>0</td>\n      <td>1</td>\n      <td>0</td>\n      <td>0</td>\n      <td>1</td>\n    </tr>\n    <tr>\n      <th>1</th>\n      <td>2.5</td>\n      <td>1</td>\n      <td>6</td>\n      <td>2</td>\n      <td>0</td>\n      <td>0</td>\n      <td>1</td>\n      <td>0</td>\n      <td>0</td>\n      <td>0</td>\n      <td>...</td>\n      <td>0</td>\n      <td>0</td>\n      <td>0</td>\n      <td>0</td>\n      <td>1</td>\n      <td>1</td>\n      <td>0</td>\n      <td>0</td>\n      <td>0</td>\n      <td>1</td>\n    </tr>\n    <tr>\n      <th>2</th>\n      <td>1.0</td>\n      <td>0</td>\n      <td>7</td>\n      <td>2</td>\n      <td>0</td>\n      <td>0</td>\n      <td>0</td>\n      <td>0</td>\n      <td>0</td>\n      <td>0</td>\n      <td>...</td>\n      <td>0</td>\n      <td>0</td>\n      <td>0</td>\n      <td>0</td>\n      <td>0</td>\n      <td>1</td>\n      <td>0</td>\n      <td>0</td>\n      <td>0</td>\n      <td>1</td>\n    </tr>\n    <tr>\n      <th>3</th>\n      <td>2.5</td>\n      <td>0</td>\n      <td>7</td>\n      <td>3</td>\n      <td>0</td>\n      <td>0</td>\n      <td>1</td>\n      <td>1</td>\n      <td>0</td>\n      <td>0</td>\n      <td>...</td>\n      <td>1</td>\n      <td>0</td>\n      <td>0</td>\n      <td>1</td>\n      <td>0</td>\n      <td>0</td>\n      <td>0</td>\n      <td>0</td>\n      <td>0</td>\n      <td>1</td>\n    </tr>\n    <tr>\n      <th>4</th>\n      <td>5.0</td>\n      <td>1</td>\n      <td>5</td>\n      <td>2</td>\n      <td>0</td>\n      <td>0</td>\n      <td>0</td>\n      <td>0</td>\n      <td>0</td>\n      <td>0</td>\n      <td>...</td>\n      <td>1</td>\n      <td>0</td>\n      <td>0</td>\n      <td>0</td>\n      <td>1</td>\n      <td>1</td>\n      <td>0</td>\n      <td>0</td>\n      <td>0</td>\n      <td>0</td>\n    </tr>\n  </tbody>\n</table>\n<p>5 rows × 33 columns</p>\n</div>"
     },
     "execution_count": 99,
     "metadata": {},
     "output_type": "execute_result"
    }
   ],
   "source": [
    "### Data after encoding of the column \n",
    "cat_df.head()"
   ],
   "metadata": {
    "collapsed": false,
    "ExecuteTime": {
     "end_time": "2024-05-19T05:46:46.105919800Z",
     "start_time": "2024-05-19T05:46:46.095958800Z"
    }
   },
   "id": "f02cb1a383d73897",
   "execution_count": 99
  },
  {
   "cell_type": "code",
   "outputs": [],
   "source": [],
   "metadata": {
    "collapsed": false
   },
   "id": "c051cd07bc055"
  },
  {
   "cell_type": "code",
   "outputs": [],
   "source": [
    "num_df=data.select_dtypes(include=['int64','float64']).copy()"
   ],
   "metadata": {
    "collapsed": false,
    "ExecuteTime": {
     "end_time": "2024-05-19T07:57:31.738719800Z",
     "start_time": "2024-05-19T07:57:31.712738Z"
    }
   },
   "id": "b0033eb681f67d03",
   "execution_count": 156
  },
  {
   "cell_type": "code",
   "outputs": [
    {
     "data": {
      "text/plain": "Index(['months_as_customer', 'age', 'policy_deductable',\n       'policy_annual_premium', 'umbrella_limit', 'capital-gains',\n       'capital-loss', 'incident_hour_of_the_day',\n       'number_of_vehicles_involved', 'bodily_injuries', 'witnesses',\n       'total_claim_amount', 'injury_claim', 'property_claim',\n       'vehicle_claim'],\n      dtype='object')"
     },
     "execution_count": 157,
     "metadata": {},
     "output_type": "execute_result"
    }
   ],
   "source": [
    "num_df.columns"
   ],
   "metadata": {
    "collapsed": false,
    "ExecuteTime": {
     "end_time": "2024-05-19T07:57:32.640343900Z",
     "start_time": "2024-05-19T07:57:32.577416700Z"
    }
   },
   "id": "6fca4e189ea35eae",
   "execution_count": 157
  },
  {
   "cell_type": "code",
   "outputs": [
    {
     "data": {
      "text/plain": "   months_as_customer  age  policy_deductable  policy_annual_premium  \\\n0                 328   48               1000                1406.91   \n1                 228   42               2000                1197.22   \n2                 134   29               2000                1413.14   \n3                 256   41               2000                1415.74   \n4                 228   44               1000                1583.91   \n\n   umbrella_limit  capital-gains  capital-loss  incident_hour_of_the_day  \\\n0               0          53300             0                         5   \n1         5000000              0             0                         8   \n2         5000000          35100             0                         7   \n3         6000000          48900        -62400                         5   \n4         6000000          66000        -46000                        20   \n\n   number_of_vehicles_involved  bodily_injuries  witnesses  \\\n0                            1                1          2   \n1                            1                0          0   \n2                            3                2          3   \n3                            1                1          2   \n4                            1                0          1   \n\n   total_claim_amount  injury_claim  property_claim  vehicle_claim  \n0               71610          6510           13020          52080  \n1                5070           780             780           3510  \n2               34650          7700            3850          23100  \n3               63400          6340            6340          50720  \n4                6500          1300             650           4550  ",
      "text/html": "<div>\n<style scoped>\n    .dataframe tbody tr th:only-of-type {\n        vertical-align: middle;\n    }\n\n    .dataframe tbody tr th {\n        vertical-align: top;\n    }\n\n    .dataframe thead th {\n        text-align: right;\n    }\n</style>\n<table border=\"1\" class=\"dataframe\">\n  <thead>\n    <tr style=\"text-align: right;\">\n      <th></th>\n      <th>months_as_customer</th>\n      <th>age</th>\n      <th>policy_deductable</th>\n      <th>policy_annual_premium</th>\n      <th>umbrella_limit</th>\n      <th>capital-gains</th>\n      <th>capital-loss</th>\n      <th>incident_hour_of_the_day</th>\n      <th>number_of_vehicles_involved</th>\n      <th>bodily_injuries</th>\n      <th>witnesses</th>\n      <th>total_claim_amount</th>\n      <th>injury_claim</th>\n      <th>property_claim</th>\n      <th>vehicle_claim</th>\n    </tr>\n  </thead>\n  <tbody>\n    <tr>\n      <th>0</th>\n      <td>328</td>\n      <td>48</td>\n      <td>1000</td>\n      <td>1406.91</td>\n      <td>0</td>\n      <td>53300</td>\n      <td>0</td>\n      <td>5</td>\n      <td>1</td>\n      <td>1</td>\n      <td>2</td>\n      <td>71610</td>\n      <td>6510</td>\n      <td>13020</td>\n      <td>52080</td>\n    </tr>\n    <tr>\n      <th>1</th>\n      <td>228</td>\n      <td>42</td>\n      <td>2000</td>\n      <td>1197.22</td>\n      <td>5000000</td>\n      <td>0</td>\n      <td>0</td>\n      <td>8</td>\n      <td>1</td>\n      <td>0</td>\n      <td>0</td>\n      <td>5070</td>\n      <td>780</td>\n      <td>780</td>\n      <td>3510</td>\n    </tr>\n    <tr>\n      <th>2</th>\n      <td>134</td>\n      <td>29</td>\n      <td>2000</td>\n      <td>1413.14</td>\n      <td>5000000</td>\n      <td>35100</td>\n      <td>0</td>\n      <td>7</td>\n      <td>3</td>\n      <td>2</td>\n      <td>3</td>\n      <td>34650</td>\n      <td>7700</td>\n      <td>3850</td>\n      <td>23100</td>\n    </tr>\n    <tr>\n      <th>3</th>\n      <td>256</td>\n      <td>41</td>\n      <td>2000</td>\n      <td>1415.74</td>\n      <td>6000000</td>\n      <td>48900</td>\n      <td>-62400</td>\n      <td>5</td>\n      <td>1</td>\n      <td>1</td>\n      <td>2</td>\n      <td>63400</td>\n      <td>6340</td>\n      <td>6340</td>\n      <td>50720</td>\n    </tr>\n    <tr>\n      <th>4</th>\n      <td>228</td>\n      <td>44</td>\n      <td>1000</td>\n      <td>1583.91</td>\n      <td>6000000</td>\n      <td>66000</td>\n      <td>-46000</td>\n      <td>20</td>\n      <td>1</td>\n      <td>0</td>\n      <td>1</td>\n      <td>6500</td>\n      <td>1300</td>\n      <td>650</td>\n      <td>4550</td>\n    </tr>\n  </tbody>\n</table>\n</div>"
     },
     "execution_count": 158,
     "metadata": {},
     "output_type": "execute_result"
    }
   ],
   "source": [
    "num_df.head()"
   ],
   "metadata": {
    "collapsed": false,
    "ExecuteTime": {
     "end_time": "2024-05-19T07:57:45.061492400Z",
     "start_time": "2024-05-19T07:57:45.027962100Z"
    }
   },
   "id": "57cdd9f50cecf1f9",
   "execution_count": 158
  },
  {
   "cell_type": "code",
   "outputs": [],
   "source": [],
   "metadata": {
    "collapsed": false
   },
   "id": "a6a8ee77acfef49a"
  },
  {
   "cell_type": "code",
   "outputs": [
    {
     "data": {
      "text/plain": "   months_as_customer  age  policy_deductable  policy_annual_premium  \\\n0                 328   48               1000                1406.91   \n1                 228   42               2000                1197.22   \n2                 134   29               2000                1413.14   \n3                 256   41               2000                1415.74   \n4                 228   44               1000                1583.91   \n\n   umbrella_limit  capital-gains  capital-loss  incident_hour_of_the_day  \\\n0               0          53300             0                         5   \n1         5000000              0             0                         8   \n2         5000000          35100             0                         7   \n3         6000000          48900        -62400                         5   \n4         6000000          66000        -46000                        20   \n\n   number_of_vehicles_involved  bodily_injuries  ...  \\\n0                            1                1  ...   \n1                            1                0  ...   \n2                            3                2  ...   \n3                            1                1  ...   \n4                            1                0  ...   \n\n   insured_relationship_unmarried_True_True  \\\n0                                         0   \n1                                         0   \n2                                         0   \n3                                         1   \n4                                         1   \n\n   insured_relationship_wife_True_True  incident_type_Parked Car_True_True  \\\n0                                    0                                   0   \n1                                    0                                   0   \n2                                    0                                   0   \n3                                    0                                   0   \n4                                    0                                   0   \n\n   incident_type_Single Vehicle Collision_True_True  \\\n0                                                 1   \n1                                                 0   \n2                                                 0   \n3                                                 1   \n4                                                 0   \n\n   incident_type_Vehicle Theft_True_True  \\\n0                                      0   \n1                                      1   \n2                                      0   \n3                                      0   \n4                                      1   \n\n   collision_type_Rear Collision_True_True  \\\n0                                        0   \n1                                        1   \n2                                        1   \n3                                        0   \n4                                        1   \n\n   collision_type_Side Collision_True_True  \\\n0                                        1   \n1                                        0   \n2                                        0   \n3                                        0   \n4                                        0   \n\n   authorities_contacted_Fire_True_True  \\\n0                                     0   \n1                                     0   \n2                                     0   \n3                                     0   \n4                                     0   \n\n   authorities_contacted_Other_True_True  \\\n0                                      0   \n1                                      0   \n2                                      0   \n3                                      0   \n4                                      0   \n\n   authorities_contacted_Police_True_True  \n0                                       1  \n1                                       1  \n2                                       1  \n3                                       1  \n4                                       0  \n\n[5 rows x 48 columns]",
      "text/html": "<div>\n<style scoped>\n    .dataframe tbody tr th:only-of-type {\n        vertical-align: middle;\n    }\n\n    .dataframe tbody tr th {\n        vertical-align: top;\n    }\n\n    .dataframe thead th {\n        text-align: right;\n    }\n</style>\n<table border=\"1\" class=\"dataframe\">\n  <thead>\n    <tr style=\"text-align: right;\">\n      <th></th>\n      <th>months_as_customer</th>\n      <th>age</th>\n      <th>policy_deductable</th>\n      <th>policy_annual_premium</th>\n      <th>umbrella_limit</th>\n      <th>capital-gains</th>\n      <th>capital-loss</th>\n      <th>incident_hour_of_the_day</th>\n      <th>number_of_vehicles_involved</th>\n      <th>bodily_injuries</th>\n      <th>...</th>\n      <th>insured_relationship_unmarried_True_True</th>\n      <th>insured_relationship_wife_True_True</th>\n      <th>incident_type_Parked Car_True_True</th>\n      <th>incident_type_Single Vehicle Collision_True_True</th>\n      <th>incident_type_Vehicle Theft_True_True</th>\n      <th>collision_type_Rear Collision_True_True</th>\n      <th>collision_type_Side Collision_True_True</th>\n      <th>authorities_contacted_Fire_True_True</th>\n      <th>authorities_contacted_Other_True_True</th>\n      <th>authorities_contacted_Police_True_True</th>\n    </tr>\n  </thead>\n  <tbody>\n    <tr>\n      <th>0</th>\n      <td>328</td>\n      <td>48</td>\n      <td>1000</td>\n      <td>1406.91</td>\n      <td>0</td>\n      <td>53300</td>\n      <td>0</td>\n      <td>5</td>\n      <td>1</td>\n      <td>1</td>\n      <td>...</td>\n      <td>0</td>\n      <td>0</td>\n      <td>0</td>\n      <td>1</td>\n      <td>0</td>\n      <td>0</td>\n      <td>1</td>\n      <td>0</td>\n      <td>0</td>\n      <td>1</td>\n    </tr>\n    <tr>\n      <th>1</th>\n      <td>228</td>\n      <td>42</td>\n      <td>2000</td>\n      <td>1197.22</td>\n      <td>5000000</td>\n      <td>0</td>\n      <td>0</td>\n      <td>8</td>\n      <td>1</td>\n      <td>0</td>\n      <td>...</td>\n      <td>0</td>\n      <td>0</td>\n      <td>0</td>\n      <td>0</td>\n      <td>1</td>\n      <td>1</td>\n      <td>0</td>\n      <td>0</td>\n      <td>0</td>\n      <td>1</td>\n    </tr>\n    <tr>\n      <th>2</th>\n      <td>134</td>\n      <td>29</td>\n      <td>2000</td>\n      <td>1413.14</td>\n      <td>5000000</td>\n      <td>35100</td>\n      <td>0</td>\n      <td>7</td>\n      <td>3</td>\n      <td>2</td>\n      <td>...</td>\n      <td>0</td>\n      <td>0</td>\n      <td>0</td>\n      <td>0</td>\n      <td>0</td>\n      <td>1</td>\n      <td>0</td>\n      <td>0</td>\n      <td>0</td>\n      <td>1</td>\n    </tr>\n    <tr>\n      <th>3</th>\n      <td>256</td>\n      <td>41</td>\n      <td>2000</td>\n      <td>1415.74</td>\n      <td>6000000</td>\n      <td>48900</td>\n      <td>-62400</td>\n      <td>5</td>\n      <td>1</td>\n      <td>1</td>\n      <td>...</td>\n      <td>1</td>\n      <td>0</td>\n      <td>0</td>\n      <td>1</td>\n      <td>0</td>\n      <td>0</td>\n      <td>0</td>\n      <td>0</td>\n      <td>0</td>\n      <td>1</td>\n    </tr>\n    <tr>\n      <th>4</th>\n      <td>228</td>\n      <td>44</td>\n      <td>1000</td>\n      <td>1583.91</td>\n      <td>6000000</td>\n      <td>66000</td>\n      <td>-46000</td>\n      <td>20</td>\n      <td>1</td>\n      <td>0</td>\n      <td>...</td>\n      <td>1</td>\n      <td>0</td>\n      <td>0</td>\n      <td>0</td>\n      <td>1</td>\n      <td>1</td>\n      <td>0</td>\n      <td>0</td>\n      <td>0</td>\n      <td>0</td>\n    </tr>\n  </tbody>\n</table>\n<p>5 rows × 48 columns</p>\n</div>"
     },
     "execution_count": 159,
     "metadata": {},
     "output_type": "execute_result"
    }
   ],
   "source": [
    "# combining the Numerical and categorical dataframes to get the final dataset\n",
    "final_df=pd.concat([num_df,cat_df],axis=1)\n",
    "final_df.head()"
   ],
   "metadata": {
    "collapsed": false,
    "ExecuteTime": {
     "end_time": "2024-05-19T07:57:57.640710400Z",
     "start_time": "2024-05-19T07:57:57.617356600Z"
    }
   },
   "id": "bc23adee7baf1915",
   "execution_count": 159
  },
  {
   "cell_type": "code",
   "outputs": [],
   "source": [
    "# separating the feature and target columns\n",
    "X=final_df.drop(['fraud_reported'],axis=1)\n",
    "y=final_df['fraud_reported']"
   ],
   "metadata": {
    "collapsed": false,
    "ExecuteTime": {
     "end_time": "2024-05-19T07:58:07.067417300Z",
     "start_time": "2024-05-19T07:58:07.036789600Z"
    }
   },
   "id": "710090812828a0de",
   "execution_count": 160
  },
  {
   "cell_type": "code",
   "outputs": [],
   "source": [
    "import matplotlib.pyplot as plt\n",
    "%matplotlib inline"
   ],
   "metadata": {
    "collapsed": false,
    "ExecuteTime": {
     "end_time": "2024-05-19T07:58:08.564756200Z",
     "start_time": "2024-05-19T07:58:08.520743700Z"
    }
   },
   "id": "df1eb25c1217bbe4",
   "execution_count": 161
  },
  {
   "cell_type": "code",
   "outputs": [],
   "source": [
    "# We will look at the distribution of data in some column now\n",
    "plt.hist(final_df['policy_csl'])"
   ],
   "metadata": {
    "collapsed": false
   },
   "id": "c1b71c53edaf4653",
   "execution_count": null
  },
  {
   "cell_type": "code",
   "outputs": [],
   "source": [
    "import seaborn as sns\n",
    "sns.displot(final_df['insured_sex'])\n",
    "# we  can see that for almost all categories of the gender of the insured the data is uniformly distributed"
   ],
   "metadata": {
    "collapsed": false
   },
   "id": "ed6e6c179d6f8f4a",
   "execution_count": null
  },
  {
   "cell_type": "code",
   "outputs": [],
   "source": [
    "sns.displot(final_df['insured_education_level'],kind=\"kde\",)\n",
    "# we  can see that for almost all categories of the education level of the person insured the data is uniformly distributed\n"
   ],
   "metadata": {
    "collapsed": false
   },
   "id": "26714f3f2654c02f",
   "execution_count": null
  },
  {
   "cell_type": "code",
   "outputs": [],
   "source": [
    "sns.displot(final_df['incident_severity'],kind=\"hist\")\n",
    "\"\"\"\n",
    "We can see that there are least claims for trivial incidents,\n",
    "most claims for minor incidents,\n",
    "and for major and Total loss incidents the claims are almost equal.\n",
    "\"\"\""
   ],
   "metadata": {
    "collapsed": false
   },
   "id": "adaab2f819278cbf",
   "execution_count": null
  },
  {
   "cell_type": "code",
   "outputs": [
    {
     "data": {
      "text/plain": "Index(['months_as_customer', 'age', 'policy_deductable',\n       'policy_annual_premium', 'umbrella_limit', 'capital-gains',\n       'capital-loss', 'incident_hour_of_the_day',\n       'number_of_vehicles_involved', 'bodily_injuries', 'witnesses',\n       'total_claim_amount', 'injury_claim', 'property_claim',\n       'vehicle_claim'],\n      dtype='object')"
     },
     "execution_count": 166,
     "metadata": {},
     "output_type": "execute_result"
    }
   ],
   "source": [
    "num_df.columns"
   ],
   "metadata": {
    "collapsed": false,
    "ExecuteTime": {
     "end_time": "2024-05-19T07:58:17.371844500Z",
     "start_time": "2024-05-19T07:58:17.357358200Z"
    }
   },
   "id": "bed2db549d6d7102",
   "execution_count": 166
  },
  {
   "cell_type": "code",
   "outputs": [],
   "source": [
    "sns.scatterplot(data=final_df,x='months_as_customer',y='age',hue=final_df['fraud_reported'])"
   ],
   "metadata": {
    "collapsed": false
   },
   "id": "f63f69ff549106e9",
   "execution_count": null
  },
  {
   "cell_type": "code",
   "outputs": [],
   "source": [
    "plt.figure(figsize=(13,8))\n",
    "sns.heatmap(data=num_df.corr(),annot=True)\n",
    "\n",
    "'''From the plot above, we can see that there is high correlation between Age and the number of months. we’ll drop the age column. Also, there is high correlation between total claim amount, injury claim,vehicle claim, and property claim as total claim is the sum of all others. So, we’ll drop the total claim column.'''"
   ],
   "metadata": {
    "collapsed": false
   },
   "id": "e8a7549350c5d150",
   "execution_count": null
  },
  {
   "cell_type": "code",
   "outputs": [],
   "source": [
    "X.drop(columns=['age','total_claim_amount'],inplace=True)"
   ],
   "metadata": {
    "collapsed": false,
    "ExecuteTime": {
     "end_time": "2024-05-19T07:59:04.280350500Z",
     "start_time": "2024-05-19T07:59:04.252702Z"
    }
   },
   "id": "8b593ed5ea7dc315",
   "execution_count": 169
  },
  {
   "cell_type": "code",
   "outputs": [],
   "source": [
    "from sklearn.model_selection import train_test_split\n",
    "train_X, test_X, train_y, test_y = train_test_split(X,y,test_size=0.25,random_state=355)"
   ],
   "metadata": {
    "collapsed": false,
    "ExecuteTime": {
     "end_time": "2024-05-19T07:59:06.163669600Z",
     "start_time": "2024-05-19T07:59:06.151497700Z"
    }
   },
   "id": "3179dc1aa7263086",
   "execution_count": 170
  },
  {
   "cell_type": "code",
   "outputs": [],
   "source": [
    "train_X.head()"
   ],
   "metadata": {
    "collapsed": false
   },
   "id": "20080f9b1601c5ab",
   "execution_count": null
  },
  {
   "cell_type": "code",
   "outputs": [],
   "source": [
    "num_df=train_X[['months_as_customer', 'policy_deductable', 'umbrella_limit',\n",
    "       'capital-gains', 'capital-loss', 'incident_hour_of_the_day',\n",
    "       'number_of_vehicles_involved', 'bodily_injuries', 'witnesses', 'injury_claim', 'property_claim',\n",
    "       'vehicle_claim','policy_annual_premium']]"
   ],
   "metadata": {
    "collapsed": false,
    "ExecuteTime": {
     "end_time": "2024-05-19T08:05:22.996418600Z",
     "start_time": "2024-05-19T08:05:22.977109600Z"
    }
   },
   "id": "f33fb0e930fb3e3f",
   "execution_count": 181
  },
  {
   "cell_type": "code",
   "outputs": [
    {
     "data": {
      "text/plain": "Index(['months_as_customer', 'policy_deductable', 'umbrella_limit',\n       'capital-gains', 'capital-loss', 'incident_hour_of_the_day',\n       'number_of_vehicles_involved', 'bodily_injuries', 'witnesses',\n       'injury_claim', 'property_claim', 'vehicle_claim',\n       'policy_annual_premium'],\n      dtype='object')"
     },
     "execution_count": 182,
     "metadata": {},
     "output_type": "execute_result"
    }
   ],
   "source": [
    "num_df.columns"
   ],
   "metadata": {
    "collapsed": false,
    "ExecuteTime": {
     "end_time": "2024-05-19T08:05:26.749631800Z",
     "start_time": "2024-05-19T08:05:26.736384200Z"
    }
   },
   "id": "49d55ef9a4edcf91",
   "execution_count": 182
  },
  {
   "cell_type": "code",
   "outputs": [
    {
     "name": "stdout",
     "output_type": "stream",
     "text": [
      "(750, 45)\n",
      "(750, 13)\n"
     ]
    }
   ],
   "source": [
    "print(train_X.shape)\n",
    "print(num_df.shape)"
   ],
   "metadata": {
    "collapsed": false,
    "ExecuteTime": {
     "end_time": "2024-05-19T08:05:29.473300700Z",
     "start_time": "2024-05-19T08:05:29.419551100Z"
    }
   },
   "id": "3bcfe89630b3abf7",
   "execution_count": 183
  },
  {
   "cell_type": "code",
   "outputs": [
    {
     "data": {
      "text/plain": "(750, 13)"
     },
     "execution_count": 184,
     "metadata": {},
     "output_type": "execute_result"
    }
   ],
   "source": [
    "# Scaling the numeric values in the dataset\n",
    "from sklearn.preprocessing import StandardScaler\n",
    "scaler = StandardScaler()\n",
    "scaled_data=scaler.fit_transform(num_df)\n",
    "scaled_num_df=pd.DataFrame(scaled_data,columns=num_df.columns,index=train_X.index)\n",
    "scaled_num_df.shape"
   ],
   "metadata": {
    "collapsed": false,
    "ExecuteTime": {
     "end_time": "2024-05-19T08:05:48.741329900Z",
     "start_time": "2024-05-19T08:05:48.713342Z"
    }
   },
   "id": "6cec1f3efd951f3d",
   "execution_count": 184
  },
  {
   "cell_type": "code",
   "outputs": [],
   "source": [
    "scaled_num_df.isna().sum()"
   ],
   "metadata": {
    "collapsed": false
   },
   "id": "af9f9ae82ac5d770",
   "execution_count": null
  },
  {
   "cell_type": "code",
   "outputs": [],
   "source": [
    "train_X.drop(columns=scaled_num_df.columns,inplace=True)"
   ],
   "metadata": {
    "collapsed": false,
    "ExecuteTime": {
     "end_time": "2024-05-19T08:06:09.873871900Z",
     "start_time": "2024-05-19T08:06:09.804211100Z"
    }
   },
   "id": "723138de9d56070f",
   "execution_count": 186
  },
  {
   "cell_type": "code",
   "outputs": [
    {
     "data": {
      "text/plain": "(750, 32)"
     },
     "execution_count": 187,
     "metadata": {},
     "output_type": "execute_result"
    }
   ],
   "source": [
    "train_X.shape"
   ],
   "metadata": {
    "collapsed": false,
    "ExecuteTime": {
     "end_time": "2024-05-19T08:06:10.901377800Z",
     "start_time": "2024-05-19T08:06:10.878816900Z"
    }
   },
   "id": "6db26b561763b633",
   "execution_count": 187
  },
  {
   "cell_type": "code",
   "outputs": [],
   "source": [
    "train_X.head()"
   ],
   "metadata": {
    "collapsed": false
   },
   "id": "1cb625cdfbaa3efe",
   "execution_count": null
  },
  {
   "cell_type": "code",
   "outputs": [],
   "source": [
    "train_X=pd.concat([scaled_num_df,train_X],axis=1)"
   ],
   "metadata": {
    "collapsed": false,
    "ExecuteTime": {
     "end_time": "2024-05-19T08:07:55.404938300Z",
     "start_time": "2024-05-19T08:07:55.359937400Z"
    }
   },
   "id": "f010b082aee94833",
   "execution_count": 189
  },
  {
   "cell_type": "code",
   "outputs": [],
   "source": [
    "# first using the Support vector classifier for model training\n",
    "from sklearn.svm import SVC\n",
    "sv_class=SVC()"
   ],
   "metadata": {
    "collapsed": false,
    "ExecuteTime": {
     "end_time": "2024-05-19T12:32:47.778501800Z",
     "start_time": "2024-05-19T12:32:47.658691100Z"
    }
   },
   "id": "6a1a6b1600d755fc",
   "execution_count": 192
  },
  {
   "cell_type": "code",
   "outputs": [],
   "source": [
    "model=sv_class.fit(train_X,train_y)"
   ],
   "metadata": {
    "collapsed": false,
    "ExecuteTime": {
     "end_time": "2024-05-19T12:36:01.273848700Z",
     "start_time": "2024-05-19T12:36:01.224799800Z"
    }
   },
   "id": "7131fecab0bb3c58",
   "execution_count": 194
  },
  {
   "cell_type": "code",
   "outputs": [],
   "source": [
    "num_test_df=test_X[['months_as_customer', 'policy_deductable', 'umbrella_limit',\n",
    "       'capital-gains', 'capital-loss', 'incident_hour_of_the_day',\n",
    "       'number_of_vehicles_involved', 'bodily_injuries', 'witnesses', 'injury_claim', 'property_claim',\n",
    "       'vehicle_claim','policy_annual_premium']]"
   ],
   "metadata": {
    "collapsed": false,
    "ExecuteTime": {
     "end_time": "2024-05-19T12:50:49.324725800Z",
     "start_time": "2024-05-19T12:50:49.287406800Z"
    }
   },
   "id": "8a2613dba6353faa",
   "execution_count": 209
  },
  {
   "cell_type": "code",
   "outputs": [
    {
     "data": {
      "text/plain": "Index(['months_as_customer', 'policy_deductable', 'umbrella_limit',\n       'capital-gains', 'capital-loss', 'incident_hour_of_the_day',\n       'number_of_vehicles_involved', 'bodily_injuries', 'witnesses',\n       'injury_claim', 'property_claim', 'vehicle_claim',\n       'policy_annual_premium'],\n      dtype='object')"
     },
     "execution_count": 210,
     "metadata": {},
     "output_type": "execute_result"
    }
   ],
   "source": [
    "num_test_df.columns"
   ],
   "metadata": {
    "collapsed": false,
    "ExecuteTime": {
     "end_time": "2024-05-19T12:50:52.693278300Z",
     "start_time": "2024-05-19T12:50:52.671321900Z"
    }
   },
   "id": "a22702ff30e4bfb9",
   "execution_count": 210
  },
  {
   "cell_type": "code",
   "outputs": [
    {
     "data": {
      "text/plain": "     months_as_customer  policy_deductable  umbrella_limit  capital-gains  \\\n381           -1.431929          -1.048430       -0.510987       1.385166   \n732           -0.990098           1.320012       -0.510987      -0.543035   \n179            0.263259          -1.048430        1.181024      -0.894896   \n845           -0.530233           1.320012       -0.510987      -0.894896   \n111            2.228956          -1.048430        2.027029       0.955895   \n\n     capital-loss  incident_hour_of_the_day  number_of_vehicles_involved  \\\n381      0.044644                  1.712490                    -0.859484   \n732      0.891389                 -0.349332                    -0.859484   \n179     -0.213213                 -1.527515                    -0.859484   \n845      0.891389                 -0.054786                     1.076291   \n111     -0.460616                 -1.674788                    -0.859484   \n\n     bodily_injuries  witnesses  injury_claim  property_claim  vehicle_claim  \\\n381        -0.061228   1.424485      0.830272       -0.297274       0.410948   \n732         1.116225   1.424485     -0.057535        1.447109       0.989264   \n179         1.116225  -0.321207     -1.428292       -1.284120      -1.766002   \n845        -1.238680  -0.321207     -0.238384       -0.190809       0.303546   \n111        -1.238680  -1.194054      1.356380       -0.035207       0.578246   \n\n     policy_annual_premium  \n381              -0.315769  \n732               1.174207  \n179              -0.807371  \n845               0.601106  \n111               0.273829  ",
      "text/html": "<div>\n<style scoped>\n    .dataframe tbody tr th:only-of-type {\n        vertical-align: middle;\n    }\n\n    .dataframe tbody tr th {\n        vertical-align: top;\n    }\n\n    .dataframe thead th {\n        text-align: right;\n    }\n</style>\n<table border=\"1\" class=\"dataframe\">\n  <thead>\n    <tr style=\"text-align: right;\">\n      <th></th>\n      <th>months_as_customer</th>\n      <th>policy_deductable</th>\n      <th>umbrella_limit</th>\n      <th>capital-gains</th>\n      <th>capital-loss</th>\n      <th>incident_hour_of_the_day</th>\n      <th>number_of_vehicles_involved</th>\n      <th>bodily_injuries</th>\n      <th>witnesses</th>\n      <th>injury_claim</th>\n      <th>property_claim</th>\n      <th>vehicle_claim</th>\n      <th>policy_annual_premium</th>\n    </tr>\n  </thead>\n  <tbody>\n    <tr>\n      <th>381</th>\n      <td>-1.431929</td>\n      <td>-1.048430</td>\n      <td>-0.510987</td>\n      <td>1.385166</td>\n      <td>0.044644</td>\n      <td>1.712490</td>\n      <td>-0.859484</td>\n      <td>-0.061228</td>\n      <td>1.424485</td>\n      <td>0.830272</td>\n      <td>-0.297274</td>\n      <td>0.410948</td>\n      <td>-0.315769</td>\n    </tr>\n    <tr>\n      <th>732</th>\n      <td>-0.990098</td>\n      <td>1.320012</td>\n      <td>-0.510987</td>\n      <td>-0.543035</td>\n      <td>0.891389</td>\n      <td>-0.349332</td>\n      <td>-0.859484</td>\n      <td>1.116225</td>\n      <td>1.424485</td>\n      <td>-0.057535</td>\n      <td>1.447109</td>\n      <td>0.989264</td>\n      <td>1.174207</td>\n    </tr>\n    <tr>\n      <th>179</th>\n      <td>0.263259</td>\n      <td>-1.048430</td>\n      <td>1.181024</td>\n      <td>-0.894896</td>\n      <td>-0.213213</td>\n      <td>-1.527515</td>\n      <td>-0.859484</td>\n      <td>1.116225</td>\n      <td>-0.321207</td>\n      <td>-1.428292</td>\n      <td>-1.284120</td>\n      <td>-1.766002</td>\n      <td>-0.807371</td>\n    </tr>\n    <tr>\n      <th>845</th>\n      <td>-0.530233</td>\n      <td>1.320012</td>\n      <td>-0.510987</td>\n      <td>-0.894896</td>\n      <td>0.891389</td>\n      <td>-0.054786</td>\n      <td>1.076291</td>\n      <td>-1.238680</td>\n      <td>-0.321207</td>\n      <td>-0.238384</td>\n      <td>-0.190809</td>\n      <td>0.303546</td>\n      <td>0.601106</td>\n    </tr>\n    <tr>\n      <th>111</th>\n      <td>2.228956</td>\n      <td>-1.048430</td>\n      <td>2.027029</td>\n      <td>0.955895</td>\n      <td>-0.460616</td>\n      <td>-1.674788</td>\n      <td>-0.859484</td>\n      <td>-1.238680</td>\n      <td>-1.194054</td>\n      <td>1.356380</td>\n      <td>-0.035207</td>\n      <td>0.578246</td>\n      <td>0.273829</td>\n    </tr>\n  </tbody>\n</table>\n</div>"
     },
     "execution_count": 223,
     "metadata": {},
     "output_type": "execute_result"
    }
   ],
   "source": [
    "from sklearn.preprocessing import StandardScaler\n",
    "scaler_test = StandardScaler()\n",
    "scaled_test_data=scaler_test.fit_transform(num_test_df)\n",
    "scaled_test_num_df=pd.DataFrame(scaled_test_data,columns=num_test_df.columns,index=test_X.index)\n",
    "scaled_test_num_df.head()\n",
    "\n"
   ],
   "metadata": {
    "collapsed": false,
    "ExecuteTime": {
     "end_time": "2024-05-19T13:05:18.248516900Z",
     "start_time": "2024-05-19T13:05:18.195352Z"
    }
   },
   "id": "cd77446b9c9c82af",
   "execution_count": 223
  },
  {
   "cell_type": "code",
   "outputs": [],
   "source": [
    "test_X.drop(columns=scaled_test_num_df.columns,inplace=True)"
   ],
   "metadata": {
    "collapsed": false,
    "ExecuteTime": {
     "end_time": "2024-05-19T12:55:37.486226600Z",
     "start_time": "2024-05-19T12:55:37.461258900Z"
    }
   },
   "id": "eff203a2127ba3ca",
   "execution_count": 216
  },
  {
   "cell_type": "code",
   "outputs": [],
   "source": [
    "test_X=pd.concat([scaled_test_num_df,test_X],axis=1)"
   ],
   "metadata": {
    "collapsed": false,
    "ExecuteTime": {
     "end_time": "2024-05-19T13:27:07.961232200Z",
     "start_time": "2024-05-19T13:27:07.908904700Z"
    }
   },
   "id": "c7094d90a559ae08",
   "execution_count": 230
  },
  {
   "cell_type": "code",
   "outputs": [
    {
     "data": {
      "text/plain": "(250, 45)"
     },
     "execution_count": 231,
     "metadata": {},
     "output_type": "execute_result"
    }
   ],
   "source": [
    "test_X.shape"
   ],
   "metadata": {
    "collapsed": false,
    "ExecuteTime": {
     "end_time": "2024-05-19T13:27:10.641631100Z",
     "start_time": "2024-05-19T13:27:10.616025500Z"
    }
   },
   "id": "e99a67278fa127f4",
   "execution_count": 231
  },
  {
   "cell_type": "code",
   "outputs": [],
   "source": [
    "y_pred=model.predict(test_X)"
   ],
   "metadata": {
    "collapsed": false,
    "ExecuteTime": {
     "end_time": "2024-05-19T13:27:16.865338900Z",
     "start_time": "2024-05-19T13:27:16.804629100Z"
    }
   },
   "id": "e9c6c84e323fc8f4",
   "execution_count": 232
  },
  {
   "cell_type": "code",
   "outputs": [
    {
     "name": "stdout",
     "output_type": "stream",
     "text": [
      "0.728\n"
     ]
    }
   ],
   "source": [
    "from sklearn.metrics import accuracy_score\n",
    "print(accuracy_score(y_pred,test_y))"
   ],
   "metadata": {
    "collapsed": false,
    "ExecuteTime": {
     "end_time": "2024-05-19T13:28:24.455412200Z",
     "start_time": "2024-05-19T13:28:24.430146200Z"
    }
   },
   "id": "59f339d4141bb66e",
   "execution_count": 234
  },
  {
   "cell_type": "markdown",
   "source": [],
   "metadata": {
    "collapsed": false
   },
   "id": "6d3a2ea15f2ad6bc"
  },
  {
   "cell_type": "markdown",
   "source": [
    "### Doing Hyperparameter tuning"
   ],
   "metadata": {
    "collapsed": false
   },
   "id": "238eec71790f94f2"
  },
  {
   "cell_type": "code",
   "outputs": [],
   "source": [
    "from sklearn.model_selection import GridSearchCV\n",
    "param_grid = {\"kernel\": ['rbf','sigmoid'],\n",
    "             \"C\":[0.1,0.5,1.0],\n",
    "             \"random_state\":[0,100,200,300]}"
   ],
   "metadata": {
    "collapsed": false,
    "ExecuteTime": {
     "end_time": "2024-05-19T13:30:45.017371200Z",
     "start_time": "2024-05-19T13:30:45.001005300Z"
    }
   },
   "id": "ee58d3bbd604fe37",
   "execution_count": 236
  },
  {
   "cell_type": "code",
   "outputs": [],
   "source": [
    "grid = GridSearchCV(model, param_grid, cv=5,verbose=3)"
   ],
   "metadata": {
    "collapsed": false,
    "ExecuteTime": {
     "end_time": "2024-05-19T13:31:57.119750100Z",
     "start_time": "2024-05-19T13:31:57.102492400Z"
    }
   },
   "id": "ac379a270f64cb85",
   "execution_count": 238
  },
  {
   "cell_type": "code",
   "outputs": [
    {
     "name": "stdout",
     "output_type": "stream",
     "text": [
      "Fitting 5 folds for each of 24 candidates, totalling 120 fits\n",
      "[CV 1/5] END .C=0.1, kernel=rbf, random_state=0;, score=0.760 total time=   0.0s\n",
      "[CV 2/5] END .C=0.1, kernel=rbf, random_state=0;, score=0.760 total time=   0.0s\n",
      "[CV 3/5] END .C=0.1, kernel=rbf, random_state=0;, score=0.760 total time=   0.0s\n",
      "[CV 4/5] END .C=0.1, kernel=rbf, random_state=0;, score=0.760 total time=   0.0s\n",
      "[CV 5/5] END .C=0.1, kernel=rbf, random_state=0;, score=0.767 total time=   0.0s\n",
      "[CV 1/5] END C=0.1, kernel=rbf, random_state=100;, score=0.760 total time=   0.0s\n",
      "[CV 2/5] END C=0.1, kernel=rbf, random_state=100;, score=0.760 total time=   0.0s\n",
      "[CV 3/5] END C=0.1, kernel=rbf, random_state=100;, score=0.760 total time=   0.0s\n",
      "[CV 4/5] END C=0.1, kernel=rbf, random_state=100;, score=0.760 total time=   0.0s\n",
      "[CV 5/5] END C=0.1, kernel=rbf, random_state=100;, score=0.767 total time=   0.0s\n",
      "[CV 1/5] END C=0.1, kernel=rbf, random_state=200;, score=0.760 total time=   0.0s\n",
      "[CV 2/5] END C=0.1, kernel=rbf, random_state=200;, score=0.760 total time=   0.0s\n",
      "[CV 3/5] END C=0.1, kernel=rbf, random_state=200;, score=0.760 total time=   0.0s\n",
      "[CV 4/5] END C=0.1, kernel=rbf, random_state=200;, score=0.760 total time=   0.0s\n",
      "[CV 5/5] END C=0.1, kernel=rbf, random_state=200;, score=0.767 total time=   0.0s\n",
      "[CV 1/5] END C=0.1, kernel=rbf, random_state=300;, score=0.760 total time=   0.0s\n",
      "[CV 2/5] END C=0.1, kernel=rbf, random_state=300;, score=0.760 total time=   0.0s\n",
      "[CV 3/5] END C=0.1, kernel=rbf, random_state=300;, score=0.760 total time=   0.0s\n",
      "[CV 4/5] END C=0.1, kernel=rbf, random_state=300;, score=0.760 total time=   0.0s\n",
      "[CV 5/5] END C=0.1, kernel=rbf, random_state=300;, score=0.767 total time=   0.0s\n",
      "[CV 1/5] END C=0.1, kernel=sigmoid, random_state=0;, score=0.760 total time=   0.0s\n",
      "[CV 2/5] END C=0.1, kernel=sigmoid, random_state=0;, score=0.760 total time=   0.0s\n",
      "[CV 3/5] END C=0.1, kernel=sigmoid, random_state=0;, score=0.760 total time=   0.0s\n",
      "[CV 4/5] END C=0.1, kernel=sigmoid, random_state=0;, score=0.760 total time=   0.0s\n",
      "[CV 5/5] END C=0.1, kernel=sigmoid, random_state=0;, score=0.767 total time=   0.0s\n",
      "[CV 1/5] END C=0.1, kernel=sigmoid, random_state=100;, score=0.760 total time=   0.0s\n",
      "[CV 2/5] END C=0.1, kernel=sigmoid, random_state=100;, score=0.760 total time=   0.0s\n",
      "[CV 3/5] END C=0.1, kernel=sigmoid, random_state=100;, score=0.760 total time=   0.0s\n",
      "[CV 4/5] END C=0.1, kernel=sigmoid, random_state=100;, score=0.760 total time=   0.0s\n",
      "[CV 5/5] END C=0.1, kernel=sigmoid, random_state=100;, score=0.767 total time=   0.0s\n",
      "[CV 1/5] END C=0.1, kernel=sigmoid, random_state=200;, score=0.760 total time=   0.0s\n",
      "[CV 2/5] END C=0.1, kernel=sigmoid, random_state=200;, score=0.760 total time=   0.0s\n",
      "[CV 3/5] END C=0.1, kernel=sigmoid, random_state=200;, score=0.760 total time=   0.0s\n",
      "[CV 4/5] END C=0.1, kernel=sigmoid, random_state=200;, score=0.760 total time=   0.0s\n",
      "[CV 5/5] END C=0.1, kernel=sigmoid, random_state=200;, score=0.767 total time=   0.0s\n",
      "[CV 1/5] END C=0.1, kernel=sigmoid, random_state=300;, score=0.760 total time=   0.0s\n",
      "[CV 2/5] END C=0.1, kernel=sigmoid, random_state=300;, score=0.760 total time=   0.0s\n",
      "[CV 3/5] END C=0.1, kernel=sigmoid, random_state=300;, score=0.760 total time=   0.0s\n",
      "[CV 4/5] END C=0.1, kernel=sigmoid, random_state=300;, score=0.760 total time=   0.0s\n",
      "[CV 5/5] END C=0.1, kernel=sigmoid, random_state=300;, score=0.767 total time=   0.0s\n",
      "[CV 1/5] END .C=0.5, kernel=rbf, random_state=0;, score=0.760 total time=   0.0s\n",
      "[CV 2/5] END .C=0.5, kernel=rbf, random_state=0;, score=0.760 total time=   0.0s\n",
      "[CV 3/5] END .C=0.5, kernel=rbf, random_state=0;, score=0.760 total time=   0.0s\n",
      "[CV 4/5] END .C=0.5, kernel=rbf, random_state=0;, score=0.760 total time=   0.0s\n",
      "[CV 5/5] END .C=0.5, kernel=rbf, random_state=0;, score=0.767 total time=   0.0s\n",
      "[CV 1/5] END C=0.5, kernel=rbf, random_state=100;, score=0.760 total time=   0.0s\n",
      "[CV 2/5] END C=0.5, kernel=rbf, random_state=100;, score=0.760 total time=   0.0s\n",
      "[CV 3/5] END C=0.5, kernel=rbf, random_state=100;, score=0.760 total time=   0.0s\n",
      "[CV 4/5] END C=0.5, kernel=rbf, random_state=100;, score=0.760 total time=   0.0s\n",
      "[CV 5/5] END C=0.5, kernel=rbf, random_state=100;, score=0.767 total time=   0.0s\n",
      "[CV 1/5] END C=0.5, kernel=rbf, random_state=200;, score=0.760 total time=   0.0s\n",
      "[CV 2/5] END C=0.5, kernel=rbf, random_state=200;, score=0.760 total time=   0.0s\n",
      "[CV 3/5] END C=0.5, kernel=rbf, random_state=200;, score=0.760 total time=   0.0s\n",
      "[CV 4/5] END C=0.5, kernel=rbf, random_state=200;, score=0.760 total time=   0.0s\n",
      "[CV 5/5] END C=0.5, kernel=rbf, random_state=200;, score=0.767 total time=   0.0s\n",
      "[CV 1/5] END C=0.5, kernel=rbf, random_state=300;, score=0.760 total time=   0.0s\n",
      "[CV 2/5] END C=0.5, kernel=rbf, random_state=300;, score=0.760 total time=   0.0s\n",
      "[CV 3/5] END C=0.5, kernel=rbf, random_state=300;, score=0.760 total time=   0.0s\n",
      "[CV 4/5] END C=0.5, kernel=rbf, random_state=300;, score=0.760 total time=   0.0s\n",
      "[CV 5/5] END C=0.5, kernel=rbf, random_state=300;, score=0.767 total time=   0.0s\n",
      "[CV 1/5] END C=0.5, kernel=sigmoid, random_state=0;, score=0.760 total time=   0.0s\n",
      "[CV 2/5] END C=0.5, kernel=sigmoid, random_state=0;, score=0.760 total time=   0.0s\n",
      "[CV 3/5] END C=0.5, kernel=sigmoid, random_state=0;, score=0.753 total time=   0.0s\n",
      "[CV 4/5] END C=0.5, kernel=sigmoid, random_state=0;, score=0.753 total time=   0.0s\n",
      "[CV 5/5] END C=0.5, kernel=sigmoid, random_state=0;, score=0.767 total time=   0.0s\n",
      "[CV 1/5] END C=0.5, kernel=sigmoid, random_state=100;, score=0.760 total time=   0.0s\n",
      "[CV 2/5] END C=0.5, kernel=sigmoid, random_state=100;, score=0.760 total time=   0.0s\n",
      "[CV 3/5] END C=0.5, kernel=sigmoid, random_state=100;, score=0.753 total time=   0.0s\n",
      "[CV 4/5] END C=0.5, kernel=sigmoid, random_state=100;, score=0.753 total time=   0.0s\n",
      "[CV 5/5] END C=0.5, kernel=sigmoid, random_state=100;, score=0.767 total time=   0.0s\n",
      "[CV 1/5] END C=0.5, kernel=sigmoid, random_state=200;, score=0.760 total time=   0.0s\n",
      "[CV 2/5] END C=0.5, kernel=sigmoid, random_state=200;, score=0.760 total time=   0.0s\n",
      "[CV 3/5] END C=0.5, kernel=sigmoid, random_state=200;, score=0.753 total time=   0.0s\n",
      "[CV 4/5] END C=0.5, kernel=sigmoid, random_state=200;, score=0.753 total time=   0.0s\n",
      "[CV 5/5] END C=0.5, kernel=sigmoid, random_state=200;, score=0.767 total time=   0.0s\n",
      "[CV 1/5] END C=0.5, kernel=sigmoid, random_state=300;, score=0.760 total time=   0.0s\n",
      "[CV 2/5] END C=0.5, kernel=sigmoid, random_state=300;, score=0.760 total time=   0.0s\n",
      "[CV 3/5] END C=0.5, kernel=sigmoid, random_state=300;, score=0.753 total time=   0.0s\n",
      "[CV 4/5] END C=0.5, kernel=sigmoid, random_state=300;, score=0.753 total time=   0.0s\n",
      "[CV 5/5] END C=0.5, kernel=sigmoid, random_state=300;, score=0.767 total time=   0.0s\n",
      "[CV 1/5] END .C=1.0, kernel=rbf, random_state=0;, score=0.760 total time=   0.0s\n",
      "[CV 2/5] END .C=1.0, kernel=rbf, random_state=0;, score=0.760 total time=   0.0s\n",
      "[CV 3/5] END .C=1.0, kernel=rbf, random_state=0;, score=0.760 total time=   0.0s\n",
      "[CV 4/5] END .C=1.0, kernel=rbf, random_state=0;, score=0.760 total time=   0.0s\n",
      "[CV 5/5] END .C=1.0, kernel=rbf, random_state=0;, score=0.767 total time=   0.0s\n",
      "[CV 1/5] END C=1.0, kernel=rbf, random_state=100;, score=0.760 total time=   0.0s\n",
      "[CV 2/5] END C=1.0, kernel=rbf, random_state=100;, score=0.760 total time=   0.0s\n",
      "[CV 3/5] END C=1.0, kernel=rbf, random_state=100;, score=0.760 total time=   0.0s\n",
      "[CV 4/5] END C=1.0, kernel=rbf, random_state=100;, score=0.760 total time=   0.0s\n",
      "[CV 5/5] END C=1.0, kernel=rbf, random_state=100;, score=0.767 total time=   0.0s\n",
      "[CV 1/5] END C=1.0, kernel=rbf, random_state=200;, score=0.760 total time=   0.0s\n",
      "[CV 2/5] END C=1.0, kernel=rbf, random_state=200;, score=0.760 total time=   0.0s\n",
      "[CV 3/5] END C=1.0, kernel=rbf, random_state=200;, score=0.760 total time=   0.0s\n",
      "[CV 4/5] END C=1.0, kernel=rbf, random_state=200;, score=0.760 total time=   0.0s\n",
      "[CV 5/5] END C=1.0, kernel=rbf, random_state=200;, score=0.767 total time=   0.0s\n",
      "[CV 1/5] END C=1.0, kernel=rbf, random_state=300;, score=0.760 total time=   0.0s\n",
      "[CV 2/5] END C=1.0, kernel=rbf, random_state=300;, score=0.760 total time=   0.0s\n",
      "[CV 3/5] END C=1.0, kernel=rbf, random_state=300;, score=0.760 total time=   0.0s\n",
      "[CV 4/5] END C=1.0, kernel=rbf, random_state=300;, score=0.760 total time=   0.0s\n",
      "[CV 5/5] END C=1.0, kernel=rbf, random_state=300;, score=0.767 total time=   0.0s\n",
      "[CV 1/5] END C=1.0, kernel=sigmoid, random_state=0;, score=0.740 total time=   0.0s\n",
      "[CV 2/5] END C=1.0, kernel=sigmoid, random_state=0;, score=0.760 total time=   0.0s\n",
      "[CV 3/5] END C=1.0, kernel=sigmoid, random_state=0;, score=0.740 total time=   0.0s\n",
      "[CV 4/5] END C=1.0, kernel=sigmoid, random_state=0;, score=0.733 total time=   0.0s\n",
      "[CV 5/5] END C=1.0, kernel=sigmoid, random_state=0;, score=0.760 total time=   0.0s\n",
      "[CV 1/5] END C=1.0, kernel=sigmoid, random_state=100;, score=0.740 total time=   0.0s\n",
      "[CV 2/5] END C=1.0, kernel=sigmoid, random_state=100;, score=0.760 total time=   0.0s\n",
      "[CV 3/5] END C=1.0, kernel=sigmoid, random_state=100;, score=0.740 total time=   0.0s\n",
      "[CV 4/5] END C=1.0, kernel=sigmoid, random_state=100;, score=0.733 total time=   0.0s\n",
      "[CV 5/5] END C=1.0, kernel=sigmoid, random_state=100;, score=0.760 total time=   0.0s\n",
      "[CV 1/5] END C=1.0, kernel=sigmoid, random_state=200;, score=0.740 total time=   0.0s\n",
      "[CV 2/5] END C=1.0, kernel=sigmoid, random_state=200;, score=0.760 total time=   0.0s\n",
      "[CV 3/5] END C=1.0, kernel=sigmoid, random_state=200;, score=0.740 total time=   0.0s\n",
      "[CV 4/5] END C=1.0, kernel=sigmoid, random_state=200;, score=0.733 total time=   0.0s\n",
      "[CV 5/5] END C=1.0, kernel=sigmoid, random_state=200;, score=0.760 total time=   0.0s\n",
      "[CV 1/5] END C=1.0, kernel=sigmoid, random_state=300;, score=0.740 total time=   0.0s\n",
      "[CV 2/5] END C=1.0, kernel=sigmoid, random_state=300;, score=0.760 total time=   0.0s\n",
      "[CV 3/5] END C=1.0, kernel=sigmoid, random_state=300;, score=0.740 total time=   0.0s\n",
      "[CV 4/5] END C=1.0, kernel=sigmoid, random_state=300;, score=0.733 total time=   0.0s\n",
      "[CV 5/5] END C=1.0, kernel=sigmoid, random_state=300;, score=0.760 total time=   0.0s\n"
     ]
    },
    {
     "data": {
      "text/plain": "GridSearchCV(cv=5, estimator=SVC(),\n             param_grid={'C': [0.1, 0.5, 1.0], 'kernel': ['rbf', 'sigmoid'],\n                         'random_state': [0, 100, 200, 300]},\n             verbose=3)",
      "text/html": "<style>#sk-container-id-1 {\n  /* Definition of color scheme common for light and dark mode */\n  --sklearn-color-text: black;\n  --sklearn-color-line: gray;\n  /* Definition of color scheme for unfitted estimators */\n  --sklearn-color-unfitted-level-0: #fff5e6;\n  --sklearn-color-unfitted-level-1: #f6e4d2;\n  --sklearn-color-unfitted-level-2: #ffe0b3;\n  --sklearn-color-unfitted-level-3: chocolate;\n  /* Definition of color scheme for fitted estimators */\n  --sklearn-color-fitted-level-0: #f0f8ff;\n  --sklearn-color-fitted-level-1: #d4ebff;\n  --sklearn-color-fitted-level-2: #b3dbfd;\n  --sklearn-color-fitted-level-3: cornflowerblue;\n\n  /* Specific color for light theme */\n  --sklearn-color-text-on-default-background: var(--sg-text-color, var(--theme-code-foreground, var(--jp-content-font-color1, black)));\n  --sklearn-color-background: var(--sg-background-color, var(--theme-background, var(--jp-layout-color0, white)));\n  --sklearn-color-border-box: var(--sg-text-color, var(--theme-code-foreground, var(--jp-content-font-color1, black)));\n  --sklearn-color-icon: #696969;\n\n  @media (prefers-color-scheme: dark) {\n    /* Redefinition of color scheme for dark theme */\n    --sklearn-color-text-on-default-background: var(--sg-text-color, var(--theme-code-foreground, var(--jp-content-font-color1, white)));\n    --sklearn-color-background: var(--sg-background-color, var(--theme-background, var(--jp-layout-color0, #111)));\n    --sklearn-color-border-box: var(--sg-text-color, var(--theme-code-foreground, var(--jp-content-font-color1, white)));\n    --sklearn-color-icon: #878787;\n  }\n}\n\n#sk-container-id-1 {\n  color: var(--sklearn-color-text);\n}\n\n#sk-container-id-1 pre {\n  padding: 0;\n}\n\n#sk-container-id-1 input.sk-hidden--visually {\n  border: 0;\n  clip: rect(1px 1px 1px 1px);\n  clip: rect(1px, 1px, 1px, 1px);\n  height: 1px;\n  margin: -1px;\n  overflow: hidden;\n  padding: 0;\n  position: absolute;\n  width: 1px;\n}\n\n#sk-container-id-1 div.sk-dashed-wrapped {\n  border: 1px dashed var(--sklearn-color-line);\n  margin: 0 0.4em 0.5em 0.4em;\n  box-sizing: border-box;\n  padding-bottom: 0.4em;\n  background-color: var(--sklearn-color-background);\n}\n\n#sk-container-id-1 div.sk-container {\n  /* jupyter's `normalize.less` sets `[hidden] { display: none; }`\n     but bootstrap.min.css set `[hidden] { display: none !important; }`\n     so we also need the `!important` here to be able to override the\n     default hidden behavior on the sphinx rendered scikit-learn.org.\n     See: https://github.com/scikit-learn/scikit-learn/issues/21755 */\n  display: inline-block !important;\n  position: relative;\n}\n\n#sk-container-id-1 div.sk-text-repr-fallback {\n  display: none;\n}\n\ndiv.sk-parallel-item,\ndiv.sk-serial,\ndiv.sk-item {\n  /* draw centered vertical line to link estimators */\n  background-image: linear-gradient(var(--sklearn-color-text-on-default-background), var(--sklearn-color-text-on-default-background));\n  background-size: 2px 100%;\n  background-repeat: no-repeat;\n  background-position: center center;\n}\n\n/* Parallel-specific style estimator block */\n\n#sk-container-id-1 div.sk-parallel-item::after {\n  content: \"\";\n  width: 100%;\n  border-bottom: 2px solid var(--sklearn-color-text-on-default-background);\n  flex-grow: 1;\n}\n\n#sk-container-id-1 div.sk-parallel {\n  display: flex;\n  align-items: stretch;\n  justify-content: center;\n  background-color: var(--sklearn-color-background);\n  position: relative;\n}\n\n#sk-container-id-1 div.sk-parallel-item {\n  display: flex;\n  flex-direction: column;\n}\n\n#sk-container-id-1 div.sk-parallel-item:first-child::after {\n  align-self: flex-end;\n  width: 50%;\n}\n\n#sk-container-id-1 div.sk-parallel-item:last-child::after {\n  align-self: flex-start;\n  width: 50%;\n}\n\n#sk-container-id-1 div.sk-parallel-item:only-child::after {\n  width: 0;\n}\n\n/* Serial-specific style estimator block */\n\n#sk-container-id-1 div.sk-serial {\n  display: flex;\n  flex-direction: column;\n  align-items: center;\n  background-color: var(--sklearn-color-background);\n  padding-right: 1em;\n  padding-left: 1em;\n}\n\n\n/* Toggleable style: style used for estimator/Pipeline/ColumnTransformer box that is\nclickable and can be expanded/collapsed.\n- Pipeline and ColumnTransformer use this feature and define the default style\n- Estimators will overwrite some part of the style using the `sk-estimator` class\n*/\n\n/* Pipeline and ColumnTransformer style (default) */\n\n#sk-container-id-1 div.sk-toggleable {\n  /* Default theme specific background. It is overwritten whether we have a\n  specific estimator or a Pipeline/ColumnTransformer */\n  background-color: var(--sklearn-color-background);\n}\n\n/* Toggleable label */\n#sk-container-id-1 label.sk-toggleable__label {\n  cursor: pointer;\n  display: block;\n  width: 100%;\n  margin-bottom: 0;\n  padding: 0.5em;\n  box-sizing: border-box;\n  text-align: center;\n}\n\n#sk-container-id-1 label.sk-toggleable__label-arrow:before {\n  /* Arrow on the left of the label */\n  content: \"▸\";\n  float: left;\n  margin-right: 0.25em;\n  color: var(--sklearn-color-icon);\n}\n\n#sk-container-id-1 label.sk-toggleable__label-arrow:hover:before {\n  color: var(--sklearn-color-text);\n}\n\n/* Toggleable content - dropdown */\n\n#sk-container-id-1 div.sk-toggleable__content {\n  max-height: 0;\n  max-width: 0;\n  overflow: hidden;\n  text-align: left;\n  /* unfitted */\n  background-color: var(--sklearn-color-unfitted-level-0);\n}\n\n#sk-container-id-1 div.sk-toggleable__content.fitted {\n  /* fitted */\n  background-color: var(--sklearn-color-fitted-level-0);\n}\n\n#sk-container-id-1 div.sk-toggleable__content pre {\n  margin: 0.2em;\n  border-radius: 0.25em;\n  color: var(--sklearn-color-text);\n  /* unfitted */\n  background-color: var(--sklearn-color-unfitted-level-0);\n}\n\n#sk-container-id-1 div.sk-toggleable__content.fitted pre {\n  /* unfitted */\n  background-color: var(--sklearn-color-fitted-level-0);\n}\n\n#sk-container-id-1 input.sk-toggleable__control:checked~div.sk-toggleable__content {\n  /* Expand drop-down */\n  max-height: 200px;\n  max-width: 100%;\n  overflow: auto;\n}\n\n#sk-container-id-1 input.sk-toggleable__control:checked~label.sk-toggleable__label-arrow:before {\n  content: \"▾\";\n}\n\n/* Pipeline/ColumnTransformer-specific style */\n\n#sk-container-id-1 div.sk-label input.sk-toggleable__control:checked~label.sk-toggleable__label {\n  color: var(--sklearn-color-text);\n  background-color: var(--sklearn-color-unfitted-level-2);\n}\n\n#sk-container-id-1 div.sk-label.fitted input.sk-toggleable__control:checked~label.sk-toggleable__label {\n  background-color: var(--sklearn-color-fitted-level-2);\n}\n\n/* Estimator-specific style */\n\n/* Colorize estimator box */\n#sk-container-id-1 div.sk-estimator input.sk-toggleable__control:checked~label.sk-toggleable__label {\n  /* unfitted */\n  background-color: var(--sklearn-color-unfitted-level-2);\n}\n\n#sk-container-id-1 div.sk-estimator.fitted input.sk-toggleable__control:checked~label.sk-toggleable__label {\n  /* fitted */\n  background-color: var(--sklearn-color-fitted-level-2);\n}\n\n#sk-container-id-1 div.sk-label label.sk-toggleable__label,\n#sk-container-id-1 div.sk-label label {\n  /* The background is the default theme color */\n  color: var(--sklearn-color-text-on-default-background);\n}\n\n/* On hover, darken the color of the background */\n#sk-container-id-1 div.sk-label:hover label.sk-toggleable__label {\n  color: var(--sklearn-color-text);\n  background-color: var(--sklearn-color-unfitted-level-2);\n}\n\n/* Label box, darken color on hover, fitted */\n#sk-container-id-1 div.sk-label.fitted:hover label.sk-toggleable__label.fitted {\n  color: var(--sklearn-color-text);\n  background-color: var(--sklearn-color-fitted-level-2);\n}\n\n/* Estimator label */\n\n#sk-container-id-1 div.sk-label label {\n  font-family: monospace;\n  font-weight: bold;\n  display: inline-block;\n  line-height: 1.2em;\n}\n\n#sk-container-id-1 div.sk-label-container {\n  text-align: center;\n}\n\n/* Estimator-specific */\n#sk-container-id-1 div.sk-estimator {\n  font-family: monospace;\n  border: 1px dotted var(--sklearn-color-border-box);\n  border-radius: 0.25em;\n  box-sizing: border-box;\n  margin-bottom: 0.5em;\n  /* unfitted */\n  background-color: var(--sklearn-color-unfitted-level-0);\n}\n\n#sk-container-id-1 div.sk-estimator.fitted {\n  /* fitted */\n  background-color: var(--sklearn-color-fitted-level-0);\n}\n\n/* on hover */\n#sk-container-id-1 div.sk-estimator:hover {\n  /* unfitted */\n  background-color: var(--sklearn-color-unfitted-level-2);\n}\n\n#sk-container-id-1 div.sk-estimator.fitted:hover {\n  /* fitted */\n  background-color: var(--sklearn-color-fitted-level-2);\n}\n\n/* Specification for estimator info (e.g. \"i\" and \"?\") */\n\n/* Common style for \"i\" and \"?\" */\n\n.sk-estimator-doc-link,\na:link.sk-estimator-doc-link,\na:visited.sk-estimator-doc-link {\n  float: right;\n  font-size: smaller;\n  line-height: 1em;\n  font-family: monospace;\n  background-color: var(--sklearn-color-background);\n  border-radius: 1em;\n  height: 1em;\n  width: 1em;\n  text-decoration: none !important;\n  margin-left: 1ex;\n  /* unfitted */\n  border: var(--sklearn-color-unfitted-level-1) 1pt solid;\n  color: var(--sklearn-color-unfitted-level-1);\n}\n\n.sk-estimator-doc-link.fitted,\na:link.sk-estimator-doc-link.fitted,\na:visited.sk-estimator-doc-link.fitted {\n  /* fitted */\n  border: var(--sklearn-color-fitted-level-1) 1pt solid;\n  color: var(--sklearn-color-fitted-level-1);\n}\n\n/* On hover */\ndiv.sk-estimator:hover .sk-estimator-doc-link:hover,\n.sk-estimator-doc-link:hover,\ndiv.sk-label-container:hover .sk-estimator-doc-link:hover,\n.sk-estimator-doc-link:hover {\n  /* unfitted */\n  background-color: var(--sklearn-color-unfitted-level-3);\n  color: var(--sklearn-color-background);\n  text-decoration: none;\n}\n\ndiv.sk-estimator.fitted:hover .sk-estimator-doc-link.fitted:hover,\n.sk-estimator-doc-link.fitted:hover,\ndiv.sk-label-container:hover .sk-estimator-doc-link.fitted:hover,\n.sk-estimator-doc-link.fitted:hover {\n  /* fitted */\n  background-color: var(--sklearn-color-fitted-level-3);\n  color: var(--sklearn-color-background);\n  text-decoration: none;\n}\n\n/* Span, style for the box shown on hovering the info icon */\n.sk-estimator-doc-link span {\n  display: none;\n  z-index: 9999;\n  position: relative;\n  font-weight: normal;\n  right: .2ex;\n  padding: .5ex;\n  margin: .5ex;\n  width: min-content;\n  min-width: 20ex;\n  max-width: 50ex;\n  color: var(--sklearn-color-text);\n  box-shadow: 2pt 2pt 4pt #999;\n  /* unfitted */\n  background: var(--sklearn-color-unfitted-level-0);\n  border: .5pt solid var(--sklearn-color-unfitted-level-3);\n}\n\n.sk-estimator-doc-link.fitted span {\n  /* fitted */\n  background: var(--sklearn-color-fitted-level-0);\n  border: var(--sklearn-color-fitted-level-3);\n}\n\n.sk-estimator-doc-link:hover span {\n  display: block;\n}\n\n/* \"?\"-specific style due to the `<a>` HTML tag */\n\n#sk-container-id-1 a.estimator_doc_link {\n  float: right;\n  font-size: 1rem;\n  line-height: 1em;\n  font-family: monospace;\n  background-color: var(--sklearn-color-background);\n  border-radius: 1rem;\n  height: 1rem;\n  width: 1rem;\n  text-decoration: none;\n  /* unfitted */\n  color: var(--sklearn-color-unfitted-level-1);\n  border: var(--sklearn-color-unfitted-level-1) 1pt solid;\n}\n\n#sk-container-id-1 a.estimator_doc_link.fitted {\n  /* fitted */\n  border: var(--sklearn-color-fitted-level-1) 1pt solid;\n  color: var(--sklearn-color-fitted-level-1);\n}\n\n/* On hover */\n#sk-container-id-1 a.estimator_doc_link:hover {\n  /* unfitted */\n  background-color: var(--sklearn-color-unfitted-level-3);\n  color: var(--sklearn-color-background);\n  text-decoration: none;\n}\n\n#sk-container-id-1 a.estimator_doc_link.fitted:hover {\n  /* fitted */\n  background-color: var(--sklearn-color-fitted-level-3);\n}\n</style><div id=\"sk-container-id-1\" class=\"sk-top-container\"><div class=\"sk-text-repr-fallback\"><pre>GridSearchCV(cv=5, estimator=SVC(),\n             param_grid={&#x27;C&#x27;: [0.1, 0.5, 1.0], &#x27;kernel&#x27;: [&#x27;rbf&#x27;, &#x27;sigmoid&#x27;],\n                         &#x27;random_state&#x27;: [0, 100, 200, 300]},\n             verbose=3)</pre><b>In a Jupyter environment, please rerun this cell to show the HTML representation or trust the notebook. <br />On GitHub, the HTML representation is unable to render, please try loading this page with nbviewer.org.</b></div><div class=\"sk-container\" hidden><div class=\"sk-item sk-dashed-wrapped\"><div class=\"sk-label-container\"><div class=\"sk-label fitted sk-toggleable\"><input class=\"sk-toggleable__control sk-hidden--visually\" id=\"sk-estimator-id-1\" type=\"checkbox\" ><label for=\"sk-estimator-id-1\" class=\"sk-toggleable__label fitted sk-toggleable__label-arrow fitted\">&nbsp;&nbsp;GridSearchCV<a class=\"sk-estimator-doc-link fitted\" rel=\"noreferrer\" target=\"_blank\" href=\"https://scikit-learn.org/1.4/modules/generated/sklearn.model_selection.GridSearchCV.html\">?<span>Documentation for GridSearchCV</span></a><span class=\"sk-estimator-doc-link fitted\">i<span>Fitted</span></span></label><div class=\"sk-toggleable__content fitted\"><pre>GridSearchCV(cv=5, estimator=SVC(),\n             param_grid={&#x27;C&#x27;: [0.1, 0.5, 1.0], &#x27;kernel&#x27;: [&#x27;rbf&#x27;, &#x27;sigmoid&#x27;],\n                         &#x27;random_state&#x27;: [0, 100, 200, 300]},\n             verbose=3)</pre></div> </div></div><div class=\"sk-parallel\"><div class=\"sk-parallel-item\"><div class=\"sk-item\"><div class=\"sk-label-container\"><div class=\"sk-label fitted sk-toggleable\"><input class=\"sk-toggleable__control sk-hidden--visually\" id=\"sk-estimator-id-2\" type=\"checkbox\" ><label for=\"sk-estimator-id-2\" class=\"sk-toggleable__label fitted sk-toggleable__label-arrow fitted\">estimator: SVC</label><div class=\"sk-toggleable__content fitted\"><pre>SVC()</pre></div> </div></div><div class=\"sk-serial\"><div class=\"sk-item\"><div class=\"sk-estimator fitted sk-toggleable\"><input class=\"sk-toggleable__control sk-hidden--visually\" id=\"sk-estimator-id-3\" type=\"checkbox\" ><label for=\"sk-estimator-id-3\" class=\"sk-toggleable__label fitted sk-toggleable__label-arrow fitted\">&nbsp;SVC<a class=\"sk-estimator-doc-link fitted\" rel=\"noreferrer\" target=\"_blank\" href=\"https://scikit-learn.org/1.4/modules/generated/sklearn.svm.SVC.html\">?<span>Documentation for SVC</span></a></label><div class=\"sk-toggleable__content fitted\"><pre>SVC()</pre></div> </div></div></div></div></div></div></div></div></div>"
     },
     "execution_count": 239,
     "metadata": {},
     "output_type": "execute_result"
    }
   ],
   "source": [
    "grid.fit(train_X, train_y)"
   ],
   "metadata": {
    "collapsed": false,
    "ExecuteTime": {
     "end_time": "2024-05-19T13:33:01.621173500Z",
     "start_time": "2024-05-19T13:33:00.174937Z"
    }
   },
   "id": "d67a27c33199815a",
   "execution_count": 239
  },
  {
   "cell_type": "code",
   "outputs": [
    {
     "data": {
      "text/plain": "{'C': 0.1, 'kernel': 'rbf', 'random_state': 0}"
     },
     "execution_count": 240,
     "metadata": {},
     "output_type": "execute_result"
    }
   ],
   "source": [
    "grid.best_params_"
   ],
   "metadata": {
    "collapsed": false,
    "ExecuteTime": {
     "end_time": "2024-05-19T13:33:46.584021300Z",
     "start_time": "2024-05-19T13:33:46.560006900Z"
    }
   },
   "id": "f8a2ca6b10d7d98c",
   "execution_count": 240
  },
  {
   "cell_type": "code",
   "outputs": [
    {
     "data": {
      "text/plain": "SVC(C=0.1, random_state=0)",
      "text/html": "<style>#sk-container-id-2 {\n  /* Definition of color scheme common for light and dark mode */\n  --sklearn-color-text: black;\n  --sklearn-color-line: gray;\n  /* Definition of color scheme for unfitted estimators */\n  --sklearn-color-unfitted-level-0: #fff5e6;\n  --sklearn-color-unfitted-level-1: #f6e4d2;\n  --sklearn-color-unfitted-level-2: #ffe0b3;\n  --sklearn-color-unfitted-level-3: chocolate;\n  /* Definition of color scheme for fitted estimators */\n  --sklearn-color-fitted-level-0: #f0f8ff;\n  --sklearn-color-fitted-level-1: #d4ebff;\n  --sklearn-color-fitted-level-2: #b3dbfd;\n  --sklearn-color-fitted-level-3: cornflowerblue;\n\n  /* Specific color for light theme */\n  --sklearn-color-text-on-default-background: var(--sg-text-color, var(--theme-code-foreground, var(--jp-content-font-color1, black)));\n  --sklearn-color-background: var(--sg-background-color, var(--theme-background, var(--jp-layout-color0, white)));\n  --sklearn-color-border-box: var(--sg-text-color, var(--theme-code-foreground, var(--jp-content-font-color1, black)));\n  --sklearn-color-icon: #696969;\n\n  @media (prefers-color-scheme: dark) {\n    /* Redefinition of color scheme for dark theme */\n    --sklearn-color-text-on-default-background: var(--sg-text-color, var(--theme-code-foreground, var(--jp-content-font-color1, white)));\n    --sklearn-color-background: var(--sg-background-color, var(--theme-background, var(--jp-layout-color0, #111)));\n    --sklearn-color-border-box: var(--sg-text-color, var(--theme-code-foreground, var(--jp-content-font-color1, white)));\n    --sklearn-color-icon: #878787;\n  }\n}\n\n#sk-container-id-2 {\n  color: var(--sklearn-color-text);\n}\n\n#sk-container-id-2 pre {\n  padding: 0;\n}\n\n#sk-container-id-2 input.sk-hidden--visually {\n  border: 0;\n  clip: rect(1px 1px 1px 1px);\n  clip: rect(1px, 1px, 1px, 1px);\n  height: 1px;\n  margin: -1px;\n  overflow: hidden;\n  padding: 0;\n  position: absolute;\n  width: 1px;\n}\n\n#sk-container-id-2 div.sk-dashed-wrapped {\n  border: 1px dashed var(--sklearn-color-line);\n  margin: 0 0.4em 0.5em 0.4em;\n  box-sizing: border-box;\n  padding-bottom: 0.4em;\n  background-color: var(--sklearn-color-background);\n}\n\n#sk-container-id-2 div.sk-container {\n  /* jupyter's `normalize.less` sets `[hidden] { display: none; }`\n     but bootstrap.min.css set `[hidden] { display: none !important; }`\n     so we also need the `!important` here to be able to override the\n     default hidden behavior on the sphinx rendered scikit-learn.org.\n     See: https://github.com/scikit-learn/scikit-learn/issues/21755 */\n  display: inline-block !important;\n  position: relative;\n}\n\n#sk-container-id-2 div.sk-text-repr-fallback {\n  display: none;\n}\n\ndiv.sk-parallel-item,\ndiv.sk-serial,\ndiv.sk-item {\n  /* draw centered vertical line to link estimators */\n  background-image: linear-gradient(var(--sklearn-color-text-on-default-background), var(--sklearn-color-text-on-default-background));\n  background-size: 2px 100%;\n  background-repeat: no-repeat;\n  background-position: center center;\n}\n\n/* Parallel-specific style estimator block */\n\n#sk-container-id-2 div.sk-parallel-item::after {\n  content: \"\";\n  width: 100%;\n  border-bottom: 2px solid var(--sklearn-color-text-on-default-background);\n  flex-grow: 1;\n}\n\n#sk-container-id-2 div.sk-parallel {\n  display: flex;\n  align-items: stretch;\n  justify-content: center;\n  background-color: var(--sklearn-color-background);\n  position: relative;\n}\n\n#sk-container-id-2 div.sk-parallel-item {\n  display: flex;\n  flex-direction: column;\n}\n\n#sk-container-id-2 div.sk-parallel-item:first-child::after {\n  align-self: flex-end;\n  width: 50%;\n}\n\n#sk-container-id-2 div.sk-parallel-item:last-child::after {\n  align-self: flex-start;\n  width: 50%;\n}\n\n#sk-container-id-2 div.sk-parallel-item:only-child::after {\n  width: 0;\n}\n\n/* Serial-specific style estimator block */\n\n#sk-container-id-2 div.sk-serial {\n  display: flex;\n  flex-direction: column;\n  align-items: center;\n  background-color: var(--sklearn-color-background);\n  padding-right: 1em;\n  padding-left: 1em;\n}\n\n\n/* Toggleable style: style used for estimator/Pipeline/ColumnTransformer box that is\nclickable and can be expanded/collapsed.\n- Pipeline and ColumnTransformer use this feature and define the default style\n- Estimators will overwrite some part of the style using the `sk-estimator` class\n*/\n\n/* Pipeline and ColumnTransformer style (default) */\n\n#sk-container-id-2 div.sk-toggleable {\n  /* Default theme specific background. It is overwritten whether we have a\n  specific estimator or a Pipeline/ColumnTransformer */\n  background-color: var(--sklearn-color-background);\n}\n\n/* Toggleable label */\n#sk-container-id-2 label.sk-toggleable__label {\n  cursor: pointer;\n  display: block;\n  width: 100%;\n  margin-bottom: 0;\n  padding: 0.5em;\n  box-sizing: border-box;\n  text-align: center;\n}\n\n#sk-container-id-2 label.sk-toggleable__label-arrow:before {\n  /* Arrow on the left of the label */\n  content: \"▸\";\n  float: left;\n  margin-right: 0.25em;\n  color: var(--sklearn-color-icon);\n}\n\n#sk-container-id-2 label.sk-toggleable__label-arrow:hover:before {\n  color: var(--sklearn-color-text);\n}\n\n/* Toggleable content - dropdown */\n\n#sk-container-id-2 div.sk-toggleable__content {\n  max-height: 0;\n  max-width: 0;\n  overflow: hidden;\n  text-align: left;\n  /* unfitted */\n  background-color: var(--sklearn-color-unfitted-level-0);\n}\n\n#sk-container-id-2 div.sk-toggleable__content.fitted {\n  /* fitted */\n  background-color: var(--sklearn-color-fitted-level-0);\n}\n\n#sk-container-id-2 div.sk-toggleable__content pre {\n  margin: 0.2em;\n  border-radius: 0.25em;\n  color: var(--sklearn-color-text);\n  /* unfitted */\n  background-color: var(--sklearn-color-unfitted-level-0);\n}\n\n#sk-container-id-2 div.sk-toggleable__content.fitted pre {\n  /* unfitted */\n  background-color: var(--sklearn-color-fitted-level-0);\n}\n\n#sk-container-id-2 input.sk-toggleable__control:checked~div.sk-toggleable__content {\n  /* Expand drop-down */\n  max-height: 200px;\n  max-width: 100%;\n  overflow: auto;\n}\n\n#sk-container-id-2 input.sk-toggleable__control:checked~label.sk-toggleable__label-arrow:before {\n  content: \"▾\";\n}\n\n/* Pipeline/ColumnTransformer-specific style */\n\n#sk-container-id-2 div.sk-label input.sk-toggleable__control:checked~label.sk-toggleable__label {\n  color: var(--sklearn-color-text);\n  background-color: var(--sklearn-color-unfitted-level-2);\n}\n\n#sk-container-id-2 div.sk-label.fitted input.sk-toggleable__control:checked~label.sk-toggleable__label {\n  background-color: var(--sklearn-color-fitted-level-2);\n}\n\n/* Estimator-specific style */\n\n/* Colorize estimator box */\n#sk-container-id-2 div.sk-estimator input.sk-toggleable__control:checked~label.sk-toggleable__label {\n  /* unfitted */\n  background-color: var(--sklearn-color-unfitted-level-2);\n}\n\n#sk-container-id-2 div.sk-estimator.fitted input.sk-toggleable__control:checked~label.sk-toggleable__label {\n  /* fitted */\n  background-color: var(--sklearn-color-fitted-level-2);\n}\n\n#sk-container-id-2 div.sk-label label.sk-toggleable__label,\n#sk-container-id-2 div.sk-label label {\n  /* The background is the default theme color */\n  color: var(--sklearn-color-text-on-default-background);\n}\n\n/* On hover, darken the color of the background */\n#sk-container-id-2 div.sk-label:hover label.sk-toggleable__label {\n  color: var(--sklearn-color-text);\n  background-color: var(--sklearn-color-unfitted-level-2);\n}\n\n/* Label box, darken color on hover, fitted */\n#sk-container-id-2 div.sk-label.fitted:hover label.sk-toggleable__label.fitted {\n  color: var(--sklearn-color-text);\n  background-color: var(--sklearn-color-fitted-level-2);\n}\n\n/* Estimator label */\n\n#sk-container-id-2 div.sk-label label {\n  font-family: monospace;\n  font-weight: bold;\n  display: inline-block;\n  line-height: 1.2em;\n}\n\n#sk-container-id-2 div.sk-label-container {\n  text-align: center;\n}\n\n/* Estimator-specific */\n#sk-container-id-2 div.sk-estimator {\n  font-family: monospace;\n  border: 1px dotted var(--sklearn-color-border-box);\n  border-radius: 0.25em;\n  box-sizing: border-box;\n  margin-bottom: 0.5em;\n  /* unfitted */\n  background-color: var(--sklearn-color-unfitted-level-0);\n}\n\n#sk-container-id-2 div.sk-estimator.fitted {\n  /* fitted */\n  background-color: var(--sklearn-color-fitted-level-0);\n}\n\n/* on hover */\n#sk-container-id-2 div.sk-estimator:hover {\n  /* unfitted */\n  background-color: var(--sklearn-color-unfitted-level-2);\n}\n\n#sk-container-id-2 div.sk-estimator.fitted:hover {\n  /* fitted */\n  background-color: var(--sklearn-color-fitted-level-2);\n}\n\n/* Specification for estimator info (e.g. \"i\" and \"?\") */\n\n/* Common style for \"i\" and \"?\" */\n\n.sk-estimator-doc-link,\na:link.sk-estimator-doc-link,\na:visited.sk-estimator-doc-link {\n  float: right;\n  font-size: smaller;\n  line-height: 1em;\n  font-family: monospace;\n  background-color: var(--sklearn-color-background);\n  border-radius: 1em;\n  height: 1em;\n  width: 1em;\n  text-decoration: none !important;\n  margin-left: 1ex;\n  /* unfitted */\n  border: var(--sklearn-color-unfitted-level-1) 1pt solid;\n  color: var(--sklearn-color-unfitted-level-1);\n}\n\n.sk-estimator-doc-link.fitted,\na:link.sk-estimator-doc-link.fitted,\na:visited.sk-estimator-doc-link.fitted {\n  /* fitted */\n  border: var(--sklearn-color-fitted-level-1) 1pt solid;\n  color: var(--sklearn-color-fitted-level-1);\n}\n\n/* On hover */\ndiv.sk-estimator:hover .sk-estimator-doc-link:hover,\n.sk-estimator-doc-link:hover,\ndiv.sk-label-container:hover .sk-estimator-doc-link:hover,\n.sk-estimator-doc-link:hover {\n  /* unfitted */\n  background-color: var(--sklearn-color-unfitted-level-3);\n  color: var(--sklearn-color-background);\n  text-decoration: none;\n}\n\ndiv.sk-estimator.fitted:hover .sk-estimator-doc-link.fitted:hover,\n.sk-estimator-doc-link.fitted:hover,\ndiv.sk-label-container:hover .sk-estimator-doc-link.fitted:hover,\n.sk-estimator-doc-link.fitted:hover {\n  /* fitted */\n  background-color: var(--sklearn-color-fitted-level-3);\n  color: var(--sklearn-color-background);\n  text-decoration: none;\n}\n\n/* Span, style for the box shown on hovering the info icon */\n.sk-estimator-doc-link span {\n  display: none;\n  z-index: 9999;\n  position: relative;\n  font-weight: normal;\n  right: .2ex;\n  padding: .5ex;\n  margin: .5ex;\n  width: min-content;\n  min-width: 20ex;\n  max-width: 50ex;\n  color: var(--sklearn-color-text);\n  box-shadow: 2pt 2pt 4pt #999;\n  /* unfitted */\n  background: var(--sklearn-color-unfitted-level-0);\n  border: .5pt solid var(--sklearn-color-unfitted-level-3);\n}\n\n.sk-estimator-doc-link.fitted span {\n  /* fitted */\n  background: var(--sklearn-color-fitted-level-0);\n  border: var(--sklearn-color-fitted-level-3);\n}\n\n.sk-estimator-doc-link:hover span {\n  display: block;\n}\n\n/* \"?\"-specific style due to the `<a>` HTML tag */\n\n#sk-container-id-2 a.estimator_doc_link {\n  float: right;\n  font-size: 1rem;\n  line-height: 1em;\n  font-family: monospace;\n  background-color: var(--sklearn-color-background);\n  border-radius: 1rem;\n  height: 1rem;\n  width: 1rem;\n  text-decoration: none;\n  /* unfitted */\n  color: var(--sklearn-color-unfitted-level-1);\n  border: var(--sklearn-color-unfitted-level-1) 1pt solid;\n}\n\n#sk-container-id-2 a.estimator_doc_link.fitted {\n  /* fitted */\n  border: var(--sklearn-color-fitted-level-1) 1pt solid;\n  color: var(--sklearn-color-fitted-level-1);\n}\n\n/* On hover */\n#sk-container-id-2 a.estimator_doc_link:hover {\n  /* unfitted */\n  background-color: var(--sklearn-color-unfitted-level-3);\n  color: var(--sklearn-color-background);\n  text-decoration: none;\n}\n\n#sk-container-id-2 a.estimator_doc_link.fitted:hover {\n  /* fitted */\n  background-color: var(--sklearn-color-fitted-level-3);\n}\n</style><div id=\"sk-container-id-2\" class=\"sk-top-container\"><div class=\"sk-text-repr-fallback\"><pre>SVC(C=0.1, random_state=0)</pre><b>In a Jupyter environment, please rerun this cell to show the HTML representation or trust the notebook. <br />On GitHub, the HTML representation is unable to render, please try loading this page with nbviewer.org.</b></div><div class=\"sk-container\" hidden><div class=\"sk-item\"><div class=\"sk-estimator fitted sk-toggleable\"><input class=\"sk-toggleable__control sk-hidden--visually\" id=\"sk-estimator-id-4\" type=\"checkbox\" checked><label for=\"sk-estimator-id-4\" class=\"sk-toggleable__label fitted sk-toggleable__label-arrow fitted\">&nbsp;&nbsp;SVC<a class=\"sk-estimator-doc-link fitted\" rel=\"noreferrer\" target=\"_blank\" href=\"https://scikit-learn.org/1.4/modules/generated/sklearn.svm.SVC.html\">?<span>Documentation for SVC</span></a><span class=\"sk-estimator-doc-link fitted\">i<span>Fitted</span></span></label><div class=\"sk-toggleable__content fitted\"><pre>SVC(C=0.1, random_state=0)</pre></div> </div></div></div></div>"
     },
     "execution_count": 241,
     "metadata": {},
     "output_type": "execute_result"
    }
   ],
   "source": [
    "grid.best_estimator_"
   ],
   "metadata": {
    "collapsed": false,
    "ExecuteTime": {
     "end_time": "2024-05-19T13:34:03.494069800Z",
     "start_time": "2024-05-19T13:34:03.476451300Z"
    }
   },
   "id": "7780c191d831703c",
   "execution_count": 241
  },
  {
   "cell_type": "code",
   "outputs": [],
   "source": [
    "sv_class_new=SVC(C=grid.best_params_['C'],kernel=grid.best_params_['kernel'],random_state=grid.best_params_['random_state'])\n",
    "model_gs=sv_class_new.fit(train_X,train_y)"
   ],
   "metadata": {
    "collapsed": false,
    "ExecuteTime": {
     "end_time": "2024-05-19T14:40:22.057928700Z",
     "start_time": "2024-05-19T14:40:22.028627100Z"
    }
   },
   "id": "6222d6ab07b8705e",
   "execution_count": 243
  },
  {
   "cell_type": "code",
   "outputs": [
    {
     "name": "stdout",
     "output_type": "stream",
     "text": [
      "0.728\n"
     ]
    }
   ],
   "source": [
    "y_pred_new=model_gs.predict(test_X)\n",
    "print(accuracy_score(y_pred_new,test_y))"
   ],
   "metadata": {
    "collapsed": false,
    "ExecuteTime": {
     "end_time": "2024-05-19T14:41:28.245904Z",
     "start_time": "2024-05-19T14:41:28.207973700Z"
    }
   },
   "id": "1318b8ab42db51f4",
   "execution_count": 245
  },
  {
   "cell_type": "code",
   "outputs": [],
   "source": [
    "from xgboost import XGBClassifier\n",
    "xgb=XGBClassifier()"
   ],
   "metadata": {
    "collapsed": false,
    "ExecuteTime": {
     "end_time": "2024-05-19T15:18:59.040885600Z",
     "start_time": "2024-05-19T15:18:59.005156900Z"
    }
   },
   "id": "cae418b3a9ce9410",
   "execution_count": 295
  },
  {
   "cell_type": "code",
   "outputs": [],
   "source": [
    "y_pred=xgb.fit(train_X,train_y).predict(test_X)"
   ],
   "metadata": {
    "collapsed": false,
    "ExecuteTime": {
     "end_time": "2024-05-19T15:18:59.757164400Z",
     "start_time": "2024-05-19T15:18:59.614917500Z"
    }
   },
   "id": "bf46921fc1b55dc6",
   "execution_count": 296
  },
  {
   "cell_type": "code",
   "outputs": [
    {
     "name": "stdout",
     "output_type": "stream",
     "text": [
      "0.788\n"
     ]
    }
   ],
   "source": [
    "ac2=accuracy_score(test_y,y_pred)\n",
    "print(ac2)"
   ],
   "metadata": {
    "collapsed": false,
    "ExecuteTime": {
     "end_time": "2024-05-19T15:19:00.499243Z",
     "start_time": "2024-05-19T15:19:00.488608500Z"
    }
   },
   "id": "bb85382f219f369",
   "execution_count": 297
  },
  {
   "cell_type": "code",
   "outputs": [],
   "source": [
    "param_grid_xgb={\"n_estimators\": [10, 50, 100, 130], \"criterion\":['gini', 'entropy'],\n",
    "                               \"max_depth\": range(2, 10, 1)}"
   ],
   "metadata": {
    "collapsed": false,
    "ExecuteTime": {
     "end_time": "2024-05-19T15:19:01.823361700Z",
     "start_time": "2024-05-19T15:19:01.814571600Z"
    }
   },
   "id": "bbdb104da85601b5",
   "execution_count": 298
  },
  {
   "cell_type": "code",
   "outputs": [],
   "source": [
    "grid_xgb=GridSearchCV(estimator=xgb, param_grid=param_grid_xgb,cv=5,verbose=3,n_jobs=-1)"
   ],
   "metadata": {
    "collapsed": false,
    "ExecuteTime": {
     "end_time": "2024-05-19T15:19:02.512908500Z",
     "start_time": "2024-05-19T15:19:02.500063600Z"
    }
   },
   "id": "404a9e56e6458252",
   "execution_count": 299
  },
  {
   "cell_type": "code",
   "outputs": [
    {
     "name": "stdout",
     "output_type": "stream",
     "text": [
      "Fitting 5 folds for each of 64 candidates, totalling 320 fits\n"
     ]
    },
    {
     "name": "stderr",
     "output_type": "stream",
     "text": [
      "C:\\Users\\Ankit Ghai\\Documents\\PycharmProjects\\pythonProject\\InsuranceFraudDetection\\InsuranceFraudDetection\\venv\\Lib\\site-packages\\xgboost\\core.py:160: UserWarning: [20:49:08] WARNING: C:\\buildkite-agent\\builds\\buildkite-windows-cpu-autoscaling-group-i-0b3782d1791676daf-1\\xgboost\\xgboost-ci-windows\\src\\learner.cc:742: \n",
      "Parameters: { \"criterion\" } are not used.\n",
      "\n",
      "  warnings.warn(smsg, UserWarning)\n"
     ]
    },
    {
     "data": {
      "text/plain": "GridSearchCV(cv=5,\n             estimator=XGBClassifier(base_score=None, booster=None,\n                                     callbacks=None, colsample_bylevel=None,\n                                     colsample_bynode=None,\n                                     colsample_bytree=None, device=None,\n                                     early_stopping_rounds=None,\n                                     enable_categorical=False, eval_metric=None,\n                                     feature_types=None, gamma=None,\n                                     grow_policy=None, importance_type=None,\n                                     interaction_constraints=None,\n                                     learning_rate=None,...\n                                     max_cat_threshold=None,\n                                     max_cat_to_onehot=None,\n                                     max_delta_step=None, max_depth=None,\n                                     max_leaves=None, min_child_weight=None,\n                                     missing=nan, monotone_constraints=None,\n                                     multi_strategy=None, n_estimators=None,\n                                     n_jobs=None, num_parallel_tree=None,\n                                     random_state=None, ...),\n             n_jobs=-1,\n             param_grid={'criterion': ['gini', 'entropy'],\n                         'max_depth': range(2, 10),\n                         'n_estimators': [10, 50, 100, 130]},\n             verbose=3)",
      "text/html": "<style>#sk-container-id-10 {\n  /* Definition of color scheme common for light and dark mode */\n  --sklearn-color-text: black;\n  --sklearn-color-line: gray;\n  /* Definition of color scheme for unfitted estimators */\n  --sklearn-color-unfitted-level-0: #fff5e6;\n  --sklearn-color-unfitted-level-1: #f6e4d2;\n  --sklearn-color-unfitted-level-2: #ffe0b3;\n  --sklearn-color-unfitted-level-3: chocolate;\n  /* Definition of color scheme for fitted estimators */\n  --sklearn-color-fitted-level-0: #f0f8ff;\n  --sklearn-color-fitted-level-1: #d4ebff;\n  --sklearn-color-fitted-level-2: #b3dbfd;\n  --sklearn-color-fitted-level-3: cornflowerblue;\n\n  /* Specific color for light theme */\n  --sklearn-color-text-on-default-background: var(--sg-text-color, var(--theme-code-foreground, var(--jp-content-font-color1, black)));\n  --sklearn-color-background: var(--sg-background-color, var(--theme-background, var(--jp-layout-color0, white)));\n  --sklearn-color-border-box: var(--sg-text-color, var(--theme-code-foreground, var(--jp-content-font-color1, black)));\n  --sklearn-color-icon: #696969;\n\n  @media (prefers-color-scheme: dark) {\n    /* Redefinition of color scheme for dark theme */\n    --sklearn-color-text-on-default-background: var(--sg-text-color, var(--theme-code-foreground, var(--jp-content-font-color1, white)));\n    --sklearn-color-background: var(--sg-background-color, var(--theme-background, var(--jp-layout-color0, #111)));\n    --sklearn-color-border-box: var(--sg-text-color, var(--theme-code-foreground, var(--jp-content-font-color1, white)));\n    --sklearn-color-icon: #878787;\n  }\n}\n\n#sk-container-id-10 {\n  color: var(--sklearn-color-text);\n}\n\n#sk-container-id-10 pre {\n  padding: 0;\n}\n\n#sk-container-id-10 input.sk-hidden--visually {\n  border: 0;\n  clip: rect(1px 1px 1px 1px);\n  clip: rect(1px, 1px, 1px, 1px);\n  height: 1px;\n  margin: -1px;\n  overflow: hidden;\n  padding: 0;\n  position: absolute;\n  width: 1px;\n}\n\n#sk-container-id-10 div.sk-dashed-wrapped {\n  border: 1px dashed var(--sklearn-color-line);\n  margin: 0 0.4em 0.5em 0.4em;\n  box-sizing: border-box;\n  padding-bottom: 0.4em;\n  background-color: var(--sklearn-color-background);\n}\n\n#sk-container-id-10 div.sk-container {\n  /* jupyter's `normalize.less` sets `[hidden] { display: none; }`\n     but bootstrap.min.css set `[hidden] { display: none !important; }`\n     so we also need the `!important` here to be able to override the\n     default hidden behavior on the sphinx rendered scikit-learn.org.\n     See: https://github.com/scikit-learn/scikit-learn/issues/21755 */\n  display: inline-block !important;\n  position: relative;\n}\n\n#sk-container-id-10 div.sk-text-repr-fallback {\n  display: none;\n}\n\ndiv.sk-parallel-item,\ndiv.sk-serial,\ndiv.sk-item {\n  /* draw centered vertical line to link estimators */\n  background-image: linear-gradient(var(--sklearn-color-text-on-default-background), var(--sklearn-color-text-on-default-background));\n  background-size: 2px 100%;\n  background-repeat: no-repeat;\n  background-position: center center;\n}\n\n/* Parallel-specific style estimator block */\n\n#sk-container-id-10 div.sk-parallel-item::after {\n  content: \"\";\n  width: 100%;\n  border-bottom: 2px solid var(--sklearn-color-text-on-default-background);\n  flex-grow: 1;\n}\n\n#sk-container-id-10 div.sk-parallel {\n  display: flex;\n  align-items: stretch;\n  justify-content: center;\n  background-color: var(--sklearn-color-background);\n  position: relative;\n}\n\n#sk-container-id-10 div.sk-parallel-item {\n  display: flex;\n  flex-direction: column;\n}\n\n#sk-container-id-10 div.sk-parallel-item:first-child::after {\n  align-self: flex-end;\n  width: 50%;\n}\n\n#sk-container-id-10 div.sk-parallel-item:last-child::after {\n  align-self: flex-start;\n  width: 50%;\n}\n\n#sk-container-id-10 div.sk-parallel-item:only-child::after {\n  width: 0;\n}\n\n/* Serial-specific style estimator block */\n\n#sk-container-id-10 div.sk-serial {\n  display: flex;\n  flex-direction: column;\n  align-items: center;\n  background-color: var(--sklearn-color-background);\n  padding-right: 1em;\n  padding-left: 1em;\n}\n\n\n/* Toggleable style: style used for estimator/Pipeline/ColumnTransformer box that is\nclickable and can be expanded/collapsed.\n- Pipeline and ColumnTransformer use this feature and define the default style\n- Estimators will overwrite some part of the style using the `sk-estimator` class\n*/\n\n/* Pipeline and ColumnTransformer style (default) */\n\n#sk-container-id-10 div.sk-toggleable {\n  /* Default theme specific background. It is overwritten whether we have a\n  specific estimator or a Pipeline/ColumnTransformer */\n  background-color: var(--sklearn-color-background);\n}\n\n/* Toggleable label */\n#sk-container-id-10 label.sk-toggleable__label {\n  cursor: pointer;\n  display: block;\n  width: 100%;\n  margin-bottom: 0;\n  padding: 0.5em;\n  box-sizing: border-box;\n  text-align: center;\n}\n\n#sk-container-id-10 label.sk-toggleable__label-arrow:before {\n  /* Arrow on the left of the label */\n  content: \"▸\";\n  float: left;\n  margin-right: 0.25em;\n  color: var(--sklearn-color-icon);\n}\n\n#sk-container-id-10 label.sk-toggleable__label-arrow:hover:before {\n  color: var(--sklearn-color-text);\n}\n\n/* Toggleable content - dropdown */\n\n#sk-container-id-10 div.sk-toggleable__content {\n  max-height: 0;\n  max-width: 0;\n  overflow: hidden;\n  text-align: left;\n  /* unfitted */\n  background-color: var(--sklearn-color-unfitted-level-0);\n}\n\n#sk-container-id-10 div.sk-toggleable__content.fitted {\n  /* fitted */\n  background-color: var(--sklearn-color-fitted-level-0);\n}\n\n#sk-container-id-10 div.sk-toggleable__content pre {\n  margin: 0.2em;\n  border-radius: 0.25em;\n  color: var(--sklearn-color-text);\n  /* unfitted */\n  background-color: var(--sklearn-color-unfitted-level-0);\n}\n\n#sk-container-id-10 div.sk-toggleable__content.fitted pre {\n  /* unfitted */\n  background-color: var(--sklearn-color-fitted-level-0);\n}\n\n#sk-container-id-10 input.sk-toggleable__control:checked~div.sk-toggleable__content {\n  /* Expand drop-down */\n  max-height: 200px;\n  max-width: 100%;\n  overflow: auto;\n}\n\n#sk-container-id-10 input.sk-toggleable__control:checked~label.sk-toggleable__label-arrow:before {\n  content: \"▾\";\n}\n\n/* Pipeline/ColumnTransformer-specific style */\n\n#sk-container-id-10 div.sk-label input.sk-toggleable__control:checked~label.sk-toggleable__label {\n  color: var(--sklearn-color-text);\n  background-color: var(--sklearn-color-unfitted-level-2);\n}\n\n#sk-container-id-10 div.sk-label.fitted input.sk-toggleable__control:checked~label.sk-toggleable__label {\n  background-color: var(--sklearn-color-fitted-level-2);\n}\n\n/* Estimator-specific style */\n\n/* Colorize estimator box */\n#sk-container-id-10 div.sk-estimator input.sk-toggleable__control:checked~label.sk-toggleable__label {\n  /* unfitted */\n  background-color: var(--sklearn-color-unfitted-level-2);\n}\n\n#sk-container-id-10 div.sk-estimator.fitted input.sk-toggleable__control:checked~label.sk-toggleable__label {\n  /* fitted */\n  background-color: var(--sklearn-color-fitted-level-2);\n}\n\n#sk-container-id-10 div.sk-label label.sk-toggleable__label,\n#sk-container-id-10 div.sk-label label {\n  /* The background is the default theme color */\n  color: var(--sklearn-color-text-on-default-background);\n}\n\n/* On hover, darken the color of the background */\n#sk-container-id-10 div.sk-label:hover label.sk-toggleable__label {\n  color: var(--sklearn-color-text);\n  background-color: var(--sklearn-color-unfitted-level-2);\n}\n\n/* Label box, darken color on hover, fitted */\n#sk-container-id-10 div.sk-label.fitted:hover label.sk-toggleable__label.fitted {\n  color: var(--sklearn-color-text);\n  background-color: var(--sklearn-color-fitted-level-2);\n}\n\n/* Estimator label */\n\n#sk-container-id-10 div.sk-label label {\n  font-family: monospace;\n  font-weight: bold;\n  display: inline-block;\n  line-height: 1.2em;\n}\n\n#sk-container-id-10 div.sk-label-container {\n  text-align: center;\n}\n\n/* Estimator-specific */\n#sk-container-id-10 div.sk-estimator {\n  font-family: monospace;\n  border: 1px dotted var(--sklearn-color-border-box);\n  border-radius: 0.25em;\n  box-sizing: border-box;\n  margin-bottom: 0.5em;\n  /* unfitted */\n  background-color: var(--sklearn-color-unfitted-level-0);\n}\n\n#sk-container-id-10 div.sk-estimator.fitted {\n  /* fitted */\n  background-color: var(--sklearn-color-fitted-level-0);\n}\n\n/* on hover */\n#sk-container-id-10 div.sk-estimator:hover {\n  /* unfitted */\n  background-color: var(--sklearn-color-unfitted-level-2);\n}\n\n#sk-container-id-10 div.sk-estimator.fitted:hover {\n  /* fitted */\n  background-color: var(--sklearn-color-fitted-level-2);\n}\n\n/* Specification for estimator info (e.g. \"i\" and \"?\") */\n\n/* Common style for \"i\" and \"?\" */\n\n.sk-estimator-doc-link,\na:link.sk-estimator-doc-link,\na:visited.sk-estimator-doc-link {\n  float: right;\n  font-size: smaller;\n  line-height: 1em;\n  font-family: monospace;\n  background-color: var(--sklearn-color-background);\n  border-radius: 1em;\n  height: 1em;\n  width: 1em;\n  text-decoration: none !important;\n  margin-left: 1ex;\n  /* unfitted */\n  border: var(--sklearn-color-unfitted-level-1) 1pt solid;\n  color: var(--sklearn-color-unfitted-level-1);\n}\n\n.sk-estimator-doc-link.fitted,\na:link.sk-estimator-doc-link.fitted,\na:visited.sk-estimator-doc-link.fitted {\n  /* fitted */\n  border: var(--sklearn-color-fitted-level-1) 1pt solid;\n  color: var(--sklearn-color-fitted-level-1);\n}\n\n/* On hover */\ndiv.sk-estimator:hover .sk-estimator-doc-link:hover,\n.sk-estimator-doc-link:hover,\ndiv.sk-label-container:hover .sk-estimator-doc-link:hover,\n.sk-estimator-doc-link:hover {\n  /* unfitted */\n  background-color: var(--sklearn-color-unfitted-level-3);\n  color: var(--sklearn-color-background);\n  text-decoration: none;\n}\n\ndiv.sk-estimator.fitted:hover .sk-estimator-doc-link.fitted:hover,\n.sk-estimator-doc-link.fitted:hover,\ndiv.sk-label-container:hover .sk-estimator-doc-link.fitted:hover,\n.sk-estimator-doc-link.fitted:hover {\n  /* fitted */\n  background-color: var(--sklearn-color-fitted-level-3);\n  color: var(--sklearn-color-background);\n  text-decoration: none;\n}\n\n/* Span, style for the box shown on hovering the info icon */\n.sk-estimator-doc-link span {\n  display: none;\n  z-index: 9999;\n  position: relative;\n  font-weight: normal;\n  right: .2ex;\n  padding: .5ex;\n  margin: .5ex;\n  width: min-content;\n  min-width: 20ex;\n  max-width: 50ex;\n  color: var(--sklearn-color-text);\n  box-shadow: 2pt 2pt 4pt #999;\n  /* unfitted */\n  background: var(--sklearn-color-unfitted-level-0);\n  border: .5pt solid var(--sklearn-color-unfitted-level-3);\n}\n\n.sk-estimator-doc-link.fitted span {\n  /* fitted */\n  background: var(--sklearn-color-fitted-level-0);\n  border: var(--sklearn-color-fitted-level-3);\n}\n\n.sk-estimator-doc-link:hover span {\n  display: block;\n}\n\n/* \"?\"-specific style due to the `<a>` HTML tag */\n\n#sk-container-id-10 a.estimator_doc_link {\n  float: right;\n  font-size: 1rem;\n  line-height: 1em;\n  font-family: monospace;\n  background-color: var(--sklearn-color-background);\n  border-radius: 1rem;\n  height: 1rem;\n  width: 1rem;\n  text-decoration: none;\n  /* unfitted */\n  color: var(--sklearn-color-unfitted-level-1);\n  border: var(--sklearn-color-unfitted-level-1) 1pt solid;\n}\n\n#sk-container-id-10 a.estimator_doc_link.fitted {\n  /* fitted */\n  border: var(--sklearn-color-fitted-level-1) 1pt solid;\n  color: var(--sklearn-color-fitted-level-1);\n}\n\n/* On hover */\n#sk-container-id-10 a.estimator_doc_link:hover {\n  /* unfitted */\n  background-color: var(--sklearn-color-unfitted-level-3);\n  color: var(--sklearn-color-background);\n  text-decoration: none;\n}\n\n#sk-container-id-10 a.estimator_doc_link.fitted:hover {\n  /* fitted */\n  background-color: var(--sklearn-color-fitted-level-3);\n}\n</style><div id=\"sk-container-id-10\" class=\"sk-top-container\"><div class=\"sk-text-repr-fallback\"><pre>GridSearchCV(cv=5,\n             estimator=XGBClassifier(base_score=None, booster=None,\n                                     callbacks=None, colsample_bylevel=None,\n                                     colsample_bynode=None,\n                                     colsample_bytree=None, device=None,\n                                     early_stopping_rounds=None,\n                                     enable_categorical=False, eval_metric=None,\n                                     feature_types=None, gamma=None,\n                                     grow_policy=None, importance_type=None,\n                                     interaction_constraints=None,\n                                     learning_rate=None,...\n                                     max_cat_threshold=None,\n                                     max_cat_to_onehot=None,\n                                     max_delta_step=None, max_depth=None,\n                                     max_leaves=None, min_child_weight=None,\n                                     missing=nan, monotone_constraints=None,\n                                     multi_strategy=None, n_estimators=None,\n                                     n_jobs=None, num_parallel_tree=None,\n                                     random_state=None, ...),\n             n_jobs=-1,\n             param_grid={&#x27;criterion&#x27;: [&#x27;gini&#x27;, &#x27;entropy&#x27;],\n                         &#x27;max_depth&#x27;: range(2, 10),\n                         &#x27;n_estimators&#x27;: [10, 50, 100, 130]},\n             verbose=3)</pre><b>In a Jupyter environment, please rerun this cell to show the HTML representation or trust the notebook. <br />On GitHub, the HTML representation is unable to render, please try loading this page with nbviewer.org.</b></div><div class=\"sk-container\" hidden><div class=\"sk-item sk-dashed-wrapped\"><div class=\"sk-label-container\"><div class=\"sk-label fitted sk-toggleable\"><input class=\"sk-toggleable__control sk-hidden--visually\" id=\"sk-estimator-id-22\" type=\"checkbox\" ><label for=\"sk-estimator-id-22\" class=\"sk-toggleable__label fitted sk-toggleable__label-arrow fitted\">&nbsp;&nbsp;GridSearchCV<a class=\"sk-estimator-doc-link fitted\" rel=\"noreferrer\" target=\"_blank\" href=\"https://scikit-learn.org/1.4/modules/generated/sklearn.model_selection.GridSearchCV.html\">?<span>Documentation for GridSearchCV</span></a><span class=\"sk-estimator-doc-link fitted\">i<span>Fitted</span></span></label><div class=\"sk-toggleable__content fitted\"><pre>GridSearchCV(cv=5,\n             estimator=XGBClassifier(base_score=None, booster=None,\n                                     callbacks=None, colsample_bylevel=None,\n                                     colsample_bynode=None,\n                                     colsample_bytree=None, device=None,\n                                     early_stopping_rounds=None,\n                                     enable_categorical=False, eval_metric=None,\n                                     feature_types=None, gamma=None,\n                                     grow_policy=None, importance_type=None,\n                                     interaction_constraints=None,\n                                     learning_rate=None,...\n                                     max_cat_threshold=None,\n                                     max_cat_to_onehot=None,\n                                     max_delta_step=None, max_depth=None,\n                                     max_leaves=None, min_child_weight=None,\n                                     missing=nan, monotone_constraints=None,\n                                     multi_strategy=None, n_estimators=None,\n                                     n_jobs=None, num_parallel_tree=None,\n                                     random_state=None, ...),\n             n_jobs=-1,\n             param_grid={&#x27;criterion&#x27;: [&#x27;gini&#x27;, &#x27;entropy&#x27;],\n                         &#x27;max_depth&#x27;: range(2, 10),\n                         &#x27;n_estimators&#x27;: [10, 50, 100, 130]},\n             verbose=3)</pre></div> </div></div><div class=\"sk-parallel\"><div class=\"sk-parallel-item\"><div class=\"sk-item\"><div class=\"sk-label-container\"><div class=\"sk-label fitted sk-toggleable\"><input class=\"sk-toggleable__control sk-hidden--visually\" id=\"sk-estimator-id-23\" type=\"checkbox\" ><label for=\"sk-estimator-id-23\" class=\"sk-toggleable__label fitted sk-toggleable__label-arrow fitted\">estimator: XGBClassifier</label><div class=\"sk-toggleable__content fitted\"><pre>XGBClassifier(base_score=None, booster=None, callbacks=None,\n              colsample_bylevel=None, colsample_bynode=None,\n              colsample_bytree=None, device=None, early_stopping_rounds=None,\n              enable_categorical=False, eval_metric=None, feature_types=None,\n              gamma=None, grow_policy=None, importance_type=None,\n              interaction_constraints=None, learning_rate=None, max_bin=None,\n              max_cat_threshold=None, max_cat_to_onehot=None,\n              max_delta_step=None, max_depth=None, max_leaves=None,\n              min_child_weight=None, missing=nan, monotone_constraints=None,\n              multi_strategy=None, n_estimators=None, n_jobs=None,\n              num_parallel_tree=None, random_state=None, ...)</pre></div> </div></div><div class=\"sk-serial\"><div class=\"sk-item\"><div class=\"sk-estimator fitted sk-toggleable\"><input class=\"sk-toggleable__control sk-hidden--visually\" id=\"sk-estimator-id-24\" type=\"checkbox\" ><label for=\"sk-estimator-id-24\" class=\"sk-toggleable__label fitted sk-toggleable__label-arrow fitted\">XGBClassifier</label><div class=\"sk-toggleable__content fitted\"><pre>XGBClassifier(base_score=None, booster=None, callbacks=None,\n              colsample_bylevel=None, colsample_bynode=None,\n              colsample_bytree=None, device=None, early_stopping_rounds=None,\n              enable_categorical=False, eval_metric=None, feature_types=None,\n              gamma=None, grow_policy=None, importance_type=None,\n              interaction_constraints=None, learning_rate=None, max_bin=None,\n              max_cat_threshold=None, max_cat_to_onehot=None,\n              max_delta_step=None, max_depth=None, max_leaves=None,\n              min_child_weight=None, missing=nan, monotone_constraints=None,\n              multi_strategy=None, n_estimators=None, n_jobs=None,\n              num_parallel_tree=None, random_state=None, ...)</pre></div> </div></div></div></div></div></div></div></div></div>"
     },
     "execution_count": 300,
     "metadata": {},
     "output_type": "execute_result"
    }
   ],
   "source": [
    "grid_xgb.fit(train_X, train_y)"
   ],
   "metadata": {
    "collapsed": false,
    "ExecuteTime": {
     "end_time": "2024-05-19T15:19:08.149990200Z",
     "start_time": "2024-05-19T15:19:03.379649800Z"
    }
   },
   "id": "ee109d4ebc16bbde",
   "execution_count": 300
  },
  {
   "cell_type": "code",
   "outputs": [
    {
     "data": {
      "text/plain": "{'criterion': 'gini', 'max_depth': 2, 'n_estimators': 10}"
     },
     "execution_count": 301,
     "metadata": {},
     "output_type": "execute_result"
    }
   ],
   "source": [
    "grid_xgb.best_params_"
   ],
   "metadata": {
    "collapsed": false,
    "ExecuteTime": {
     "end_time": "2024-05-19T15:19:11.594512800Z",
     "start_time": "2024-05-19T15:19:11.566146Z"
    }
   },
   "id": "2c55cd03e9ff6ae3",
   "execution_count": 301
  },
  {
   "cell_type": "code",
   "outputs": [],
   "source": [
    "y_pred_xgb=grid_xgb.predict(test_X)"
   ],
   "metadata": {
    "collapsed": false,
    "ExecuteTime": {
     "end_time": "2024-05-19T15:19:12.623634400Z",
     "start_time": "2024-05-19T15:19:12.610617400Z"
    }
   },
   "id": "cea983dafe942da6",
   "execution_count": 302
  },
  {
   "cell_type": "code",
   "outputs": [
    {
     "name": "stdout",
     "output_type": "stream",
     "text": [
      "0.756\n"
     ]
    }
   ],
   "source": [
    "print(accuracy_score(y_pred_xgb,test_y))"
   ],
   "metadata": {
    "collapsed": false,
    "ExecuteTime": {
     "end_time": "2024-05-19T15:19:13.145468800Z",
     "start_time": "2024-05-19T15:19:13.132645700Z"
    }
   },
   "id": "6d985f418555fa82",
   "execution_count": 303
  },
  {
   "cell_type": "code",
   "outputs": [],
   "source": [],
   "metadata": {
    "collapsed": false
   },
   "id": "9139a9767ce0e198"
  }
 ],
 "metadata": {
  "kernelspec": {
   "display_name": "Python 3",
   "language": "python",
   "name": "python3"
  },
  "language_info": {
   "codemirror_mode": {
    "name": "ipython",
    "version": 2
   },
   "file_extension": ".py",
   "mimetype": "text/x-python",
   "name": "python",
   "nbconvert_exporter": "python",
   "pygments_lexer": "ipython2",
   "version": "2.7.6"
  }
 },
 "nbformat": 4,
 "nbformat_minor": 5
}
